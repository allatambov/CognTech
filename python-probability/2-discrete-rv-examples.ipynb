{
 "cells": [
  {
   "cell_type": "markdown",
   "metadata": {},
   "source": [
    "# Когнитивные технологии\n",
    "\n",
    "*Алла Тамбовцева*"
   ]
  },
  {
   "cell_type": "markdown",
   "metadata": {},
   "source": [
    "## Примеры дискретных распределений: практикум в Python"
   ]
  },
  {
   "cell_type": "markdown",
   "metadata": {},
   "source": [
    "### Бинарное распределение\n",
    "\n",
    "**Испытание Бернулли** – случайный эксперимент, у которого два исхода: «успех» (иногда кодируется единицей) и «неудача» (иногда кодируется единицей). Вероятность успеха обозначается $p$, а вероятность неудачи $q = 1-p$.  \n",
    "\n",
    "*Пример.* Один бросок правильной монетки – испытание Бернулли с вероятностями $p=q=0.5$.\n",
    "\n",
    "Одно испытание Бернулли можно описать **бинарной** случайной величиной со следующим рядом распределения:\n",
    "\n",
    "<table>\n",
    "<tr>\n",
    "<td>$X$</td><td>$0$</td><td>$1$</td>\n",
    "</tr>\n",
    "<tr>\n",
    "<td>$P$</td><td>$q$</td><td>$p$</td>\n",
    "</tr>\n",
    "</table>\n",
    "\n",
    "Бинарное распределение (оно же распределение Бернулли) задаётся единственным параметром $p$. Зная $p$, мы легко посчитаем $q$, а также определим характеристики случайной величины: математическое ожидание, дисперсию, стандартное отклонение. Несложно показать, что $E(X) = p$, $D(X) = pq$ и $sd(X)=\\sqrt{pq}$."
   ]
  },
  {
   "cell_type": "markdown",
   "metadata": {},
   "source": [
    "Перейдем к практике. Импортируем модуль `stats` из библиотеки `scipy`:"
   ]
  },
  {
   "cell_type": "code",
   "execution_count": 1,
   "metadata": {},
   "outputs": [],
   "source": [
    "import scipy.stats as st"
   ]
  },
  {
   "cell_type": "markdown",
   "metadata": {},
   "source": [
    "Создадим бинарную случайную величину с параметром $p=0.6$ (вероятность успеха равна $0.6$):"
   ]
  },
  {
   "cell_type": "code",
   "execution_count": 2,
   "metadata": {},
   "outputs": [],
   "source": [
    "binary = st.bernoulli(p=0.6)"
   ]
  },
  {
   "cell_type": "markdown",
   "metadata": {},
   "source": [
    "Если мы посмотрим на саму переменную `binary`, ничего интересного мы не увидим. Но зато к объекту `binary` можно применять разные методы. Например, мы можем запросить математическое ожидание:"
   ]
  },
  {
   "cell_type": "code",
   "execution_count": 3,
   "metadata": {},
   "outputs": [
    {
     "data": {
      "text/plain": [
       "0.6"
      ]
     },
     "execution_count": 3,
     "metadata": {},
     "output_type": "execute_result"
    }
   ],
   "source": [
    "binary.expect()  # совпадает с p"
   ]
  },
  {
   "cell_type": "markdown",
   "metadata": {},
   "source": [
    "И дисперсию:"
   ]
  },
  {
   "cell_type": "code",
   "execution_count": 4,
   "metadata": {},
   "outputs": [
    {
     "data": {
      "text/plain": [
       "0.24"
      ]
     },
     "execution_count": 4,
     "metadata": {},
     "output_type": "execute_result"
    }
   ],
   "source": [
    "binary.var() # действительно p(1-p)"
   ]
  },
  {
   "cell_type": "markdown",
   "metadata": {},
   "source": [
    "А также стандартное отклонение:"
   ]
  },
  {
   "cell_type": "code",
   "execution_count": 5,
   "metadata": {},
   "outputs": [
    {
     "data": {
      "text/plain": [
       "0.4898979485566356"
      ]
     },
     "execution_count": 5,
     "metadata": {},
     "output_type": "execute_result"
    }
   ],
   "source": [
    "binary.std()"
   ]
  },
  {
   "cell_type": "markdown",
   "metadata": {},
   "source": [
    "Кроме того, можно запросить все моменты распределения сразу: математическое ожидание (*mean* или *expected value*), дисперсию (*variance*), асимметрию (*skewness*) и эксцесс (*kurtosis*)."
   ]
  },
  {
   "cell_type": "code",
   "execution_count": 6,
   "metadata": {},
   "outputs": [
    {
     "data": {
      "text/plain": [
       "(array(0.6), array(0.24), array(-0.40824829), array(-1.83333333))"
      ]
     },
     "execution_count": 6,
     "metadata": {},
     "output_type": "execute_result"
    }
   ],
   "source": [
    "binary.stats('mvsk')  # mean, variance, skewness, kurtosis"
   ]
  },
  {
   "cell_type": "markdown",
   "metadata": {},
   "source": [
    "### Теоретическое отступление: моменты случайной величины\n",
    "\n",
    "**Момент случайной величины** – неслучайная величина, которая, в свою очередь, является числовой характеристикой случайной величины. По определению момент порядка $k$ (или $k$-ый момент) случайной величины $X$: \n",
    "\n",
    "$$\n",
    "m_k = E(X^k).\n",
    "$$\n",
    "\n",
    "Несложно заметить, что математическое ожидание случайной величины является её первым моментом: $m_1 = E(X)$. Дисперсия случайной величины является вторым моментом, причём не простым, а центральным: $m_2 = E(X-E(X))^2$.  \n",
    "\n",
    "Третий центральный момент определяется так: $m_3 = E(X-E(X))^3$. Если этот момент нормировать, поделив на стандартное отклонение случайной величины в степени $3$, мы получим коэффициент асимметрии распределения (*skewness*):\n",
    "\n",
    "$$\n",
    "skewness = \\frac{m_3}{sd(X)^3}.\n",
    "$$\n",
    "\n",
    "Значения коэффициента могут быть как положительными, так и отрицательными. Коэффициент асимметрии равный $0$ соответствует распределению, симметричному относительно математического ожидания, положительные значения означают скошенность распределения вправо (распределение имеет длинный «хвост» справа, то есть значения больше математического ожидания встречаются значительно реже, чем значения меньше ожидаемого среднего), отрицательные  – скошенность влево (распределение имеет длинный «хвост» слева, то есть значения меньше математического ожидания встречаются значительно реже, чем значения больше ожидаемого среднего).\n",
    "\n",
    "Четвёртый центральный момент определяется так: $m_4 = E(X-E(X))^4$. Если этот момент нормировать, поделив на стандартное отклонение случайной величины в степени $4$, и сдвинуть его на 3 единицы, мы получим коэффициент эксцесса (*kurtosis*):\n",
    "\n",
    "$$\n",
    "kurtosis = \\frac{m_4}{sd(X)^4} - 3.\n",
    "$$\n",
    "\n",
    "Значения коэффициента эксцесса также могут быть как отрицательными (но не меньше $-2$), так и положительными. Коэффициент эксцесса показывает, насколько выражен пик распределения: если значение положительно и достаточно большое, больше $3$, то пик выражен сильно (более острый), если значение отрицательно, то пик выражен слабо (более гладкий).\n",
    "\n",
    "Также момент порядка $k$ можно определить через значение $k$-той производной характеристической функции случайной величины в нуле. Характеристическая функция распределения задаётся следующей формулой:\n",
    "\n",
    "$$\n",
    "\\phi_X(t) = E(e^{itX}).\n",
    "$$\n",
    "\n",
    "Тогда $k$-тый момент (естественно, если он существует) выражается так:\n",
    "\n",
    "$$\n",
    "m_k = i^{-k} \\cdot \\frac{\\partial^k \\phi_X(t)}{\\partial t^k}\\biggr\\rvert_{t=0}.\n",
    "$$\n",
    "\n",
    "В этом ноутбуке мы не будем специально останавливаться на характеристических функциях, в качестве дополнительного домашнего задания будет предложено вывести значения моментов некоторых распределений методом дифференцирования характеристических функций (чтобы не было скучно и банально, это будет предложено сделать с помощью библиотеки `sympy` для символьных вычислений в Python).\n",
    "\n",
    "Интерпретировать моменты бинарной случайной величины не так интересно, учитывая, что у неё всего два значения, вернёмся к ним чуть позже."
   ]
  },
  {
   "cell_type": "markdown",
   "metadata": {},
   "source": [
    "### Биномиальное распределение\n",
    "\n",
    "**Серия из $n$ испытаний Бернулли** – случайный эксперимент, в котором испытание Бернулли повторяют независимо $n$ раз.\n",
    "\n",
    "*Пример.* $10$ бросков правильной монеты является серией испытаний Бернулли (независимость здесь проявляется в том, что мы в любом случае бросаем монету ещё раз, пока не бросим её $10$ раз, независимо от того, что выпало, орёл или решка). \n",
    "\n",
    "Число успехов в серии испытаний Бернулли можно описать **биномиальной** случайной величиной. Биномиальную случайную величину можно рассматривать как сумму независимых одинаково распределённых (с одинаковыми параметрами $p$) бинарных случайных величин. Биномиальное распределение задаётся двумя параметрами: $n$ (число испытаний Бернулли в серии) и $p$ (вероятность успеха в одном испытании Бернулли). Описать распределение дискретной случайной величины – соотнести её значения и вероятности. Очевидно, что если биномиальная величина описывает число успехов в серии из $n$ испытаний Бернулли, то она может принимать только целые значения от $0$ до $n$. Вероятности каждого значения $k$ биномиальной случайной величины с параметрами $n$ и $p$ вычисляются так:\n",
    "\n",
    "$$\n",
    "P(X=k) = C_n^k \\cdot p^k \\cdot (1-p)^{n-k} = \\frac{n!}{k!(n-k)!} \\cdot p^k \\cdot (1-p)^{n-k}.\n",
    "$$\n",
    "\n",
    "Конечно, нет необходимости писать свою функцию в Python, чтобы считать такие вероятности. Однако на всякий случай вспомним, как в Python можно посчитать факториалы и биномиальные коэффициенты."
   ]
  },
  {
   "cell_type": "code",
   "execution_count": 7,
   "metadata": {},
   "outputs": [
    {
     "data": {
      "text/plain": [
       "720"
      ]
     },
     "execution_count": 7,
     "metadata": {},
     "output_type": "execute_result"
    }
   ],
   "source": [
    "# факториалы\n",
    "from math import factorial\n",
    "factorial(6)  # 6!"
   ]
  },
  {
   "cell_type": "code",
   "execution_count": 8,
   "metadata": {},
   "outputs": [
    {
     "data": {
      "text/plain": [
       "6.0"
      ]
     },
     "execution_count": 8,
     "metadata": {},
     "output_type": "execute_result"
    }
   ],
   "source": [
    "# биномиальные коэффициенты\n",
    "import scipy.special as sp\n",
    "sp.binom(4, 2) # сначала указывается n, потом k"
   ]
  },
  {
   "cell_type": "markdown",
   "metadata": {},
   "source": [
    "Теперь перейдём непосредственно к биномиальным величинам и биномиальным вероятностям. Для создания биномиальной случайной величины и вычисления вероятностей нам опять понадобится модуль `stats` из той же библиотеки `scipy`. И да, с его помощью можно создать практически любую случайную величину с заданными параметрами (как дискретную, так и непрерывную). Можно набрать `st.` и нажать *Tab*, чтобы посмотреть перечень доступных распределений (и не только). \n",
    "\n",
    "Создадим случайную величину $X$, имеющую биномиальное распределение с параметрами $n=10$, $p=0.5$, то есть величину, которая описывает число успехов в серии из $10$ испытаний Бернулли, где вероятность успеха в одном испытании равна $0.5$."
   ]
  },
  {
   "cell_type": "code",
   "execution_count": 9,
   "metadata": {},
   "outputs": [],
   "source": [
    "binm = st.binom(n=10, p=0.5)"
   ]
  },
  {
   "cell_type": "markdown",
   "metadata": {},
   "source": [
    "Теперь давайте построим ряд распределения этой случайной величины. Ясно, что значениями этой случайной величины являются целые числа от $0$ до $10$ включительно (число успехов в $10$ испытаниях). Реализуем такой цикл: для каждого значения $k$ от $0$ до $10$ включительно будем считать вероятность $P(X=k)$ с помощью метода `.pmf()`."
   ]
  },
  {
   "cell_type": "code",
   "execution_count": 10,
   "metadata": {},
   "outputs": [
    {
     "name": "stdout",
     "output_type": "stream",
     "text": [
      "0 0.0009765625\n",
      "1 0.00976562500000001\n",
      "2 0.04394531249999999\n",
      "3 0.11718750000000014\n",
      "4 0.20507812500000022\n",
      "5 0.24609375000000025\n",
      "6 0.20507812500000022\n",
      "7 0.11718750000000014\n",
      "8 0.04394531249999999\n",
      "9 0.00976562500000001\n",
      "10 0.0009765625\n"
     ]
    }
   ],
   "source": [
    "for k in range(0, 11):  # все целые числа от 0 до 10\n",
    "    print(k, binm.pmf(k))"
   ]
  },
  {
   "cell_type": "markdown",
   "metadata": {},
   "source": [
    "Можем найти математическое ожидание и дисперсию этой случайной величины:"
   ]
  },
  {
   "cell_type": "code",
   "execution_count": 11,
   "metadata": {},
   "outputs": [
    {
     "data": {
      "text/plain": [
       "5.000000000000005"
      ]
     },
     "execution_count": 11,
     "metadata": {},
     "output_type": "execute_result"
    }
   ],
   "source": [
    "binm.expect()  # E(X), expected value"
   ]
  },
  {
   "cell_type": "code",
   "execution_count": 12,
   "metadata": {},
   "outputs": [
    {
     "data": {
      "text/plain": [
       "2.5"
      ]
     },
     "execution_count": 12,
     "metadata": {},
     "output_type": "execute_result"
    }
   ],
   "source": [
    "binm.var()  # D(X)=Var(X), variance"
   ]
  },
  {
   "cell_type": "markdown",
   "metadata": {},
   "source": [
    "Или все моменты сразу:"
   ]
  },
  {
   "cell_type": "code",
   "execution_count": 13,
   "metadata": {},
   "outputs": [
    {
     "data": {
      "text/plain": [
       "(array(5.), array(2.5), array(0.), array(-0.2))"
      ]
     },
     "execution_count": 13,
     "metadata": {},
     "output_type": "execute_result"
    }
   ],
   "source": [
    "binm.stats('mvsk')"
   ]
  },
  {
   "cell_type": "markdown",
   "metadata": {},
   "source": [
    "Видно, что коэффициент асимметрии здесь равен $0$. Это ожидаемо, поскольку в силу того, что $p=0.5$, распределение является симметричным относительно среднего ожидаемого значения. Это легко можно заметить по посчитанным вероятностям, которые мы определили в цикле выше, а также на графике распределения вероятностей, которые мы строили ранее для произвольных дискретных величин:"
   ]
  },
  {
   "cell_type": "code",
   "execution_count": 14,
   "metadata": {},
   "outputs": [],
   "source": [
    "import matplotlib.pyplot as plt\n",
    "import numpy as np"
   ]
  },
  {
   "cell_type": "code",
   "execution_count": 15,
   "metadata": {},
   "outputs": [],
   "source": [
    "%matplotlib inline"
   ]
  },
  {
   "cell_type": "code",
   "execution_count": 16,
   "metadata": {},
   "outputs": [],
   "source": [
    "n, p = 10, 0.5  # параметры биномиального распределения\n",
    "x = np.arange(0, n + 1)  # все значения СВ - целые от 0 до n включительно\n",
    "prob = st.binom.pmf(x, n, p)  # вероятности"
   ]
  },
  {
   "cell_type": "markdown",
   "metadata": {},
   "source": [
    "Построим график:\n",
    "\n",
    "* `vlines` – вертикальные линии\n",
    "* `x` – значения СВ\n",
    "* `prob` – вероятности значений СВ\n",
    "* `colors` – цвета\n",
    "* `lw` – ширина линий (line width)\n",
    "* `alpha` – прозрачность"
   ]
  },
  {
   "cell_type": "code",
   "execution_count": 17,
   "metadata": {},
   "outputs": [
    {
     "data": {
      "text/plain": [
       "<matplotlib.collections.LineCollection at 0x11d303be0>"
      ]
     },
     "execution_count": 17,
     "metadata": {},
     "output_type": "execute_result"
    },
    {
     "data": {
      "image/png": "[encoded data removed]",
      "text/plain": [
       "<Figure size 432x288 with 1 Axes>"
      ]
     },
     "metadata": {},
     "output_type": "display_data"
    }
   ],
   "source": [
    "plt.vlines(x, 0, prob, colors='green', lw=5, alpha=0.5)"
   ]
  },
  {
   "cell_type": "markdown",
   "metadata": {},
   "source": [
    "Судя по значению коэффициента эксцесса ($-0.2$), пик распределения недостаточно ярко выражен, что видно и на графике: переход между вероятностью самого вероятного значения $5$ и значений справа и слева от него не очень резкий. \n",
    "\n",
    "Кстати, значения моментов распределения можно сохранить все по отдельности и при этом одной строкой:"
   ]
  },
  {
   "cell_type": "code",
   "execution_count": 18,
   "metadata": {},
   "outputs": [
    {
     "name": "stdout",
     "output_type": "stream",
     "text": [
      "0.0 -0.2\n"
     ]
    }
   ],
   "source": [
    "ex, dx, skew, kurt = binm.stats('mvsk')\n",
    "print(skew, kurt)"
   ]
  },
  {
   "cell_type": "markdown",
   "metadata": {},
   "source": [
    "Теперь мы можем решить какую-нибудь задачу.\n",
    "\n",
    "**Задача 1**\n",
    "\n",
    "Известно, что $70$% студентов очной формы обучения совмещают обучение с работой. Для проведения интервью мы случайным образом выбираем $10$ студентов.\n",
    "\n",
    "a. Какова вероятность того, что среди выбранных респондентов будет ровно $4$ работающих студента?\n",
    "\n",
    "b. Какова вероятность того, что среди выбранных респондентов будет не менее $8$ работающих студентов?\n",
    "\n",
    "Одно испытание Бернулли – опрос одного студента. Успех – студент совмещает работу и учебу, неудача – не совмещает. $p=0.7$ и $q=0.3$. Раз опрашиваем $10$ студентов, имеем серию из $n=10$ испытаний Бернулли. Сгенерируем величину $X$, которая имеет биномиальное распределение с параметрами $n=10$, $p=0.7$."
   ]
  },
  {
   "cell_type": "code",
   "execution_count": 19,
   "metadata": {},
   "outputs": [],
   "source": [
    "x = st.binom(n=10, p=0.7)"
   ]
  },
  {
   "cell_type": "markdown",
   "metadata": {},
   "source": [
    "a. $P(X = 4)$"
   ]
  },
  {
   "cell_type": "code",
   "execution_count": 20,
   "metadata": {},
   "outputs": [
    {
     "data": {
      "text/plain": [
       "0.03675690900000004"
      ]
     },
     "execution_count": 20,
     "metadata": {},
     "output_type": "execute_result"
    }
   ],
   "source": [
    "x.pmf(4)  # pmf - от probability mass function"
   ]
  },
  {
   "cell_type": "markdown",
   "metadata": {},
   "source": [
    "b. $P(X \\geq 8) = P(X=8) + P(X=9) + P(X=10)$"
   ]
  },
  {
   "cell_type": "code",
   "execution_count": 21,
   "metadata": {},
   "outputs": [
    {
     "data": {
      "text/plain": [
       "0.3827827863999999"
      ]
     },
     "execution_count": 21,
     "metadata": {},
     "output_type": "execute_result"
    }
   ],
   "source": [
    "x.pmf(8) + x.pmf(9) + x.pmf(10)"
   ]
  },
  {
   "cell_type": "markdown",
   "metadata": {},
   "source": [
    "**Задача 2**"
   ]
  },
  {
   "cell_type": "markdown",
   "metadata": {},
   "source": [
    "Правильную монету подбросили $20$ раз. В каких пределах будет лежать число выпавших в этом эксперименте орлов с вероятностью $0.95$?\n",
    "\n",
    "Сгенерируем случайную величину:"
   ]
  },
  {
   "cell_type": "code",
   "execution_count": 22,
   "metadata": {},
   "outputs": [],
   "source": [
    "Y = st.binom(n=20, p=0.5)"
   ]
  },
  {
   "cell_type": "markdown",
   "metadata": {},
   "source": [
    "Определим интервал, симметричный относительно математического ожидания, который накрывает $95%$ всех значений с помощью метода `.interval()`:"
   ]
  },
  {
   "cell_type": "code",
   "execution_count": 23,
   "metadata": {},
   "outputs": [
    {
     "data": {
      "text/plain": [
       "(6.0, 14.0)"
      ]
     },
     "execution_count": 23,
     "metadata": {},
     "output_type": "execute_result"
    }
   ],
   "source": [
    "Y.interval(0.95)"
   ]
  },
  {
   "cell_type": "markdown",
   "metadata": {},
   "source": [
    "Можем посмотреть на все вероятности и убедиться в этом:"
   ]
  },
  {
   "cell_type": "code",
   "execution_count": 24,
   "metadata": {},
   "outputs": [
    {
     "name": "stdout",
     "output_type": "stream",
     "text": [
      "0 9.5367431640625e-07\n",
      "1 1.907348632812499e-05\n",
      "2 0.00018119812011718734\n",
      "3 0.0010871887207031235\n",
      "4 0.004620552062988271\n",
      "5 0.014785766601562429\n",
      "6 0.03696441650390614\n",
      "7 0.07392883300781268\n",
      "8 0.12013435363769531\n",
      "9 0.16017913818359344\n",
      "10 0.17619705200195293\n",
      "11 0.16017913818359344\n",
      "12 0.12013435363769531\n",
      "13 0.07392883300781268\n",
      "14 0.03696441650390614\n",
      "15 0.014785766601562429\n",
      "16 0.004620552062988271\n",
      "17 0.0010871887207031235\n",
      "18 0.00018119812011718734\n",
      "19 1.907348632812499e-05\n"
     ]
    }
   ],
   "source": [
    "for k in range(0, 20):  # все целые числа от 0 до 10\n",
    "    print(k, Y.pmf(k))"
   ]
  }
 ],
 "metadata": {
  "kernelspec": {
   "display_name": "Python 3",
   "language": "python",
   "name": "python3"
  },
  "language_info": {
   "codemirror_mode": {
    "name": "ipython",
    "version": 3
   },
   "file_extension": ".py",
   "mimetype": "text/x-python",
   "name": "python",
   "nbconvert_exporter": "python",
   "pygments_lexer": "ipython3",
   "version": "3.6.5"
  }
 },
 "nbformat": 4,
 "nbformat_minor": 2
}
