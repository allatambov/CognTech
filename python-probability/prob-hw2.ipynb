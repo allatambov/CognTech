{
 "cells": [
  {
   "cell_type": "markdown",
   "metadata": {},
   "source": [
    "# Когнитивные технологии\n",
    "\n",
    "*Алла Тамбовцева, НИУ ВШЭ*\n",
    "\n",
    "## Домашнее задание 2"
   ]
  },
  {
   "cell_type": "markdown",
   "metadata": {},
   "source": [
    "В этом домашнем задании две части – обязательная и дополнительная. Если планируете выполнить обе части, просто сохраните их и загрузите одним файлом на Dropbox. [Ссылка](https://www.dropbox.com/request/vfeyX6fJBBP4ioO4fktM) для загрузки задания. "
   ]
  },
  {
   "cell_type": "markdown",
   "metadata": {},
   "source": [
    "### Обязательная часть\n",
    "\n",
    "В этой части предполагается использование библиотек `scipy` и `matplotlib`.\n",
    "\n",
    "1. Выберите одно из следующих дискретных распределений: геометрическое, отрицательное биномиальное, распределение Скеллама, распределение Больцмана, распределение Ципфа.\n",
    "\n",
    "2. Сгенерируйте случайную величину, имеющую распределение из пункта 1 с параметрами на ваш выбор. \n",
    "\n",
    "    * постройте ряд распределения случайной величины (выведите её значения и соответствующие вероятности); \n",
    "\n",
    "    * вычислите математическое ожидание, дисперсию, коэффициент асимметрии и эксцесса;\n",
    "\n",
    "    * постройте график распределения случайной величины (либо график вероятностей, либо многоугольник распределения), укажите, какое значение случайной величины является наиболее вероятным.\n",
    "    \n",
    "3. Сгенерируйте новую случайную величину с выбранным ранее распределением, но с другими значениями параметров. Постройте график распределения для этой случайной величины, наложите его разумным образом на график распределения предыдущей случайной величины. Вычислите математическое ожидание, дисперсию, коэффициент асимметрии и эксцесса этой случайной величины. Сравните форму распределения этих двух случайных величин и их числовые характеристики, сделайте содержательные выводы (за что отвечают параметры распределения, как именно их изменение влияет на форму распределения, его вид).\n",
    "\n",
    "4. Сгенерируйте нормальную случайную величину с математическим ожиданием $6$ и дисперсией $10$. \n",
    "\n",
    "    * Постройте график плотности распределения этой случайной величины. Закрасьте на графике площадь, соответствующую вероятности $P(2 < X < 5)$.\n",
    "    * Определите квантили уровней $0.2$, $0.45$, $0.95$ для данной случайной величины.\n",
    "\n",
    "5. Решите следующую задачу, используя [теорему](https://nsu.ru/mmf/tvims/chernova/tv/lec/node61.html) Муавра-Лапласа и вычислительные возможности `scipy`. Получите точный (не приближённый) ответ, расчитывая биномиальные вероятности по соответствующей формуле. Сравните полученные разными способами результаты.\n",
    "\n",
    "    *Задача* \n",
    "    \n",
    "    *Для поступления в университет необходимо успешно сдать вступительный экзамен.\n",
    "    По опыту известно, что в некотором университете N в среднем его выдерживают лишь 25% абитуриентов. Известно, что в приемную комиссию поступило 1800 заявлений. Чему равна вероятность\n",
    "    того, что хотя бы 500 поступающих успешно сдадут экзамен?*"
   ]
  },
  {
   "cell_type": "markdown",
   "metadata": {},
   "source": [
    "### Дополнительная часть\n",
    "\n",
    "В этой части предполагается использование библиотеки `sympy`. Тьюториал по `sympy` (англ): [ссылка](https://docs.sympy.org/0.7.0/tutorial.html). \n",
    "\n",
    "1. Покажите, что математическое ожидание экспоненциального распределения равно $1/\\lambda$, а дисперсия $1/\\lambda^2$, используя характеристическую функцию распределения. \n",
    "\n",
    "2. Покажите, что математическое ожидание биномиального распределения c параметром $n=10$ равно $10p$, а дисперсия $10p(1-p)$, используя характеристическую функцию распределения. \n",
    "\n",
    "**NB** Обратите внимание, дисперсия – центральный момент, то есть не просто $E(X^2)$, а $E(X^2) - [E(X)]^2$.\n",
    "\n",
    "Для нахождения общего вида функции используйте модуль `stats` из библиотеки `sympy`, а для нахождения производных и прочих преобразований – соотвествующие функции из всей библиотеки `sympy`.\n",
    "\n",
    "#### Пример работы с `sympy`: "
   ]
  },
  {
   "cell_type": "code",
   "execution_count": 1,
   "metadata": {},
   "outputs": [],
   "source": [
    "# импортируем библиотеки и модули, настраиваем вывод на экран\n",
    "\n",
    "from sympy import *\n",
    "from sympy.stats import *\n",
    "init_printing(use_unicode=False, wrap_line=False)"
   ]
  },
  {
   "cell_type": "code",
   "execution_count": 2,
   "metadata": {},
   "outputs": [],
   "source": [
    "# задаём переменные \n",
    "x, y = symbols('x y')"
   ]
  },
  {
   "cell_type": "code",
   "execution_count": 3,
   "metadata": {},
   "outputs": [
    {
     "data": {
      "image/png": "[encoded data removed]",
      "text/latex": [
       "$$\\sin{\\left (\\left(x + y\\right)^{2} \\right )}$$"
      ],
      "text/plain": [
       "   /       2\\\n",
       "sin\\(x + y) /"
      ]
     },
     "execution_count": 3,
     "metadata": {},
     "output_type": "execute_result"
    }
   ],
   "source": [
    "# создаём функцию\n",
    "f = sin((x + y)**2)\n",
    "f"
   ]
  },
  {
   "cell_type": "code",
   "execution_count": 4,
   "metadata": {},
   "outputs": [
    {
     "data": {
      "image/png": "[encoded data removed]",
      "text/latex": [
       "$$\\sin{\\left (x^{2} + 2 x y + y^{2} \\right )}$$"
      ],
      "text/plain": [
       "   / 2            2\\\n",
       "sin\\x  + 2*x*y + y /"
      ]
     },
     "execution_count": 4,
     "metadata": {},
     "output_type": "execute_result"
    }
   ],
   "source": [
    "# раскрываем скобки\n",
    "f.expand()"
   ]
  },
  {
   "cell_type": "code",
   "execution_count": 5,
   "metadata": {},
   "outputs": [
    {
     "data": {
      "image/png": "[encoded data removed]",
      "text/latex": [
       "$$\\sin{\\left (9 \\right )}$$"
      ],
      "text/plain": [
       "sin(9)"
      ]
     },
     "execution_count": 5,
     "metadata": {},
     "output_type": "execute_result"
    }
   ],
   "source": [
    "# подставляем x = 1, y = 2\n",
    "f.subs(x, 1).subs(y, 2)"
   ]
  },
  {
   "cell_type": "code",
   "execution_count": 6,
   "metadata": {},
   "outputs": [
    {
     "data": {
      "image/png": "[encoded data removed]",
      "text/latex": [
       "$$0.412118485241757$$"
      ],
      "text/plain": [
       "0.412118485241757"
      ]
     },
     "execution_count": 6,
     "metadata": {},
     "output_type": "execute_result"
    }
   ],
   "source": [
    "# вычисляем результат\n",
    "res = f.subs(x, 1).subs(y, 2)\n",
    "res.evalf()"
   ]
  },
  {
   "cell_type": "code",
   "execution_count": 7,
   "metadata": {},
   "outputs": [
    {
     "data": {
      "image/png": "[encoded data removed]",
      "text/latex": [
       "$$\\left(2 x + 2 y\\right) \\cos{\\left (\\left(x + y\\right)^{2} \\right )}$$"
      ],
      "text/plain": [
       "               /       2\\\n",
       "(2*x + 2*y)*cos\\(x + y) /"
      ]
     },
     "execution_count": 7,
     "metadata": {},
     "output_type": "execute_result"
    }
   ],
   "source": [
    "# находим производную f по x\n",
    "f.diff(x)"
   ]
  },
  {
   "cell_type": "code",
   "execution_count": 8,
   "metadata": {},
   "outputs": [
    {
     "data": {
      "image/png": "[encoded data removed]",
      "text/latex": [
       "$$2 \\left(x + y\\right) \\cos{\\left (\\left(x + y\\right)^{2} \\right )}$$"
      ],
      "text/plain": [
       "             /       2\\\n",
       "2*(x + y)*cos\\(x + y) /"
      ]
     },
     "execution_count": 8,
     "metadata": {},
     "output_type": "execute_result"
    }
   ],
   "source": [
    "# упрощаем\n",
    "f.diff(x).simplify()"
   ]
  },
  {
   "cell_type": "code",
   "execution_count": 9,
   "metadata": {},
   "outputs": [
    {
     "data": {
      "image/png": "[encoded data removed]",
      "text/latex": [
       "$$- \\cos{\\left (x \\right )}$$"
      ],
      "text/plain": [
       "-cos(x)"
      ]
     },
     "execution_count": 9,
     "metadata": {},
     "output_type": "execute_result"
    }
   ],
   "source": [
    "# находим интеграл sin(x)\n",
    "integrate(sin(x))"
   ]
  },
  {
   "cell_type": "code",
   "execution_count": 10,
   "metadata": {},
   "outputs": [
    {
     "name": "stdout",
     "output_type": "stream",
     "text": [
      "-cos(1) + 1\n",
      "0.459697694131860\n"
     ]
    }
   ],
   "source": [
    "# находим определенный интеграл\n",
    "print(integrate(sin(x), (x, 0, 1)))\n",
    "print(integrate(sin(x), (x, 0, 1)).evalf())"
   ]
  },
  {
   "cell_type": "code",
   "execution_count": 11,
   "metadata": {},
   "outputs": [],
   "source": [
    "# создаем случайную величину через stats\n",
    "a = symbols('a')\n",
    "sigma = symbols('sigma', positive=True)  # ограничение sigma > 0\n",
    "X = Normal(x, a, sigma) # N(a, sigma)"
   ]
  },
  {
   "cell_type": "code",
   "execution_count": 12,
   "metadata": {},
   "outputs": [
    {
     "data": {
      "image/png": "[encoded data removed]",
      "text/latex": [
       "$$- \\frac{a}{4 \\sqrt{\\pi}} \\left(- 2 \\sqrt{\\pi} \\left(- \\operatorname{erfc}{\\left (\\frac{\\sqrt{2} a}{2 \\sigma} \\right )} + 2\\right) - \\frac{2 \\sigma}{a} \\sqrt{2} e^{- \\frac{a^{2}}{2 \\sigma^{2}}}\\right) - \\frac{a}{4 \\sqrt{\\pi}} \\left(- 2 \\sqrt{\\pi} \\operatorname{erfc}{\\left (\\frac{\\sqrt{2} a}{2 \\sigma} \\right )} + \\frac{2 \\sigma}{a} \\sqrt{2} e^{- \\frac{a^{2}}{2 \\sigma^{2}}}\\right)$$"
      ],
      "text/plain": [
       "    /                                                      2   \\     /                                              2   \\\n",
       "    |                                                    -a    |     |                                            -a    |\n",
       "    |                                                  --------|     |                                          --------|\n",
       "    |                                                         2|     |                                                 2|\n",
       "    |           /      /  ___  \\    \\       ___        2*sigma |     |               /  ___  \\       ___        2*sigma |\n",
       "    |      ____ |      |\\/ 2 *a|    |   2*\\/ 2 *sigma*e        |     |      ____     |\\/ 2 *a|   2*\\/ 2 *sigma*e        |\n",
       "  a*|- 2*\\/ pi *|- erfc|-------| + 2| - -----------------------|   a*|- 2*\\/ pi *erfc|-------| + -----------------------|\n",
       "    \\           \\      \\2*sigma/    /              a           /     \\               \\2*sigma/              a           /\n",
       "- -------------------------------------------------------------- - ------------------------------------------------------\n",
       "                                 ____                                                         ____                       \n",
       "                             4*\\/ pi                                                      4*\\/ pi                        "
      ]
     },
     "execution_count": 12,
     "metadata": {},
     "output_type": "execute_result"
    }
   ],
   "source": [
    "# выведем математическое ожидание\n",
    "E(X)"
   ]
  },
  {
   "cell_type": "code",
   "execution_count": 13,
   "metadata": {},
   "outputs": [
    {
     "data": {
      "image/png": "[encoded data removed]",
      "text/latex": [
       "$$a$$"
      ],
      "text/plain": [
       "a"
      ]
     },
     "execution_count": 13,
     "metadata": {},
     "output_type": "execute_result"
    }
   ],
   "source": [
    "# а теперь в приличном виде\n",
    "simplify(E(X))"
   ]
  },
  {
   "cell_type": "code",
   "execution_count": 14,
   "metadata": {},
   "outputs": [
    {
     "data": {
      "image/png": "[encoded data removed]",
      "text/latex": [
       "$$\\frac{\\sqrt{2}}{2 \\sqrt{\\pi} \\sigma} e^{- \\frac{\\left(- a + x\\right)^{2}}{2 \\sigma^{2}}}$$"
      ],
      "text/plain": [
       "                2 \n",
       "       -(-a + x)  \n",
       "       -----------\n",
       "                2 \n",
       "  ___    2*sigma  \n",
       "\\/ 2 *e           \n",
       "------------------\n",
       "      ____        \n",
       "  2*\\/ pi *sigma  "
      ]
     },
     "execution_count": 14,
     "metadata": {},
     "output_type": "execute_result"
    }
   ],
   "source": [
    "# выведем функцию плотности\n",
    "density(X)(x)"
   ]
  }
 ],
 "metadata": {
  "kernelspec": {
   "display_name": "Python 3",
   "language": "python",
   "name": "python3"
  },
  "language_info": {
   "codemirror_mode": {
    "name": "ipython",
    "version": 3
   },
   "file_extension": ".py",
   "mimetype": "text/x-python",
   "name": "python",
   "nbconvert_exporter": "python",
   "pygments_lexer": "ipython3",
   "version": "3.6.5"
  }
 },
 "nbformat": 4,
 "nbformat_minor": 2
}
