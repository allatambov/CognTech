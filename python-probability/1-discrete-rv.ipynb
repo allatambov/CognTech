{
 "cells": [
  {
   "cell_type": "markdown",
   "metadata": {},
   "source": [
    "# Когнитивные технологии\n",
    "\n",
    "*Алла Тамбовцева, НИУ ВШЭ*"
   ]
  },
  {
   "cell_type": "markdown",
   "metadata": {},
   "source": [
    "## Случайные величины. Дискретные случайные величины."
   ]
  },
  {
   "cell_type": "markdown",
   "metadata": {},
   "source": [
    "### Немного теории: случайный эксперимент и случайная величина\n",
    "\n",
    "**Случайный эксперимент** – эксперимент (необязательно научный эксперимент, любая ситуация), исход которого нам заранее неизвестен, но который берётся из известного множества исходов. \n",
    "\n",
    "*Пример 1.* Бросок игрального кубика – случайный эксперимент. Число очков, которое выпадет, заранее неизвестно, но зато известно множество возможных значений: \\{$1$, $2$, $3$, $4$, $5$, $6$\\}. \n",
    "\n",
    "*Пример 2.* Если мы выйдем на улицу и будем фиксировать возраст (с точностью до года) первого человека, который пойдёт нам навстречу, мы не сможем заранее угадать, какой возраст будет у прохожего. Но мы знаем примерный диапазон возможных значений – целые числа от 0 до 120. Конечно, здесь можно уточнять, что именно имеется в виду под «пойдёт навстречу» (сам пойдет или, например, появится в коляске перед взрослым, который эту коляску катит) и какой максимальный возраст возможен, но в любом случае ясно, что возраст не будет отрицательным или дробным, поскольку мы учитываем возраст с точностью до года. \n",
    "\n",
    "**Элементарный исход** – исход случайного эксперимента, который нельзя разделить на более мелкие исходы.  \n",
    "\n",
    "*Пример.* Рассмотрим один бросок правильного игрального кубика. Выпадение чётного числа очков элементарным исходом не является, так как этот результат можно разбить на частные исходы: $\\{2, 4, 6\\}$, в то время как выпадение «шестёрки» является элементарным исходом.\n",
    "\n",
    "Множество всех элементарных исходов называют **пространством элементарных исходов** и обычно обозначают $\\Omega$.\n",
    "\n",
    "**Случайная величина** – величина, значения которой зависят от элементарного исхода случайного эксперимента. Более формально: функция от элементарного исхода. \n",
    "\n",
    "*Пример.* Рассмотрим случайную величину $X$, которая описывает результаты следующего эксперимента:  случайным образом выбираем отзыв о фильме, и если он положительный, то записываем значение $1$, если отрицательный – значение $-1$, если нейтральный, то $0$. \n",
    "\n",
    "Элементарные исходы эксперимента: $\\{\\text{положительный}, \\text{отрицательный}, \\text{нейтральный}\\}$. \n",
    "\n",
    "Случайную величину можно представить как функцию от элементарного исхода:\n",
    "\n",
    "$$\n",
    "X = \n",
    "\\begin{cases}\n",
    "-1, & \\text{если отзыв отрицательный} \\\\\n",
    "0, & \\text{если отзыв нейтральный} \\\\\n",
    "1, & \\text{если отзыв положительный.} \n",
    "\\end{cases}\n",
    "$$"
   ]
  },
  {
   "cell_type": "markdown",
   "metadata": {},
   "source": [
    "Случайные величины бывают **дискретными** и **непрерывными**. Дискретные случайные величины принимают конечное (или как минимум счётное) число значений. Непрерывные случайные величины принимают бесконечное число значений. \n",
    "\n",
    "*Пример 1.* Число детей в семье – дискретная случайная величина.\n",
    "\n",
    "*Пример 2.* Температура воздуха, измеренная с высокой точностью – непрерывная случайная величина.\n",
    "\n",
    "Чтобы описать случайную величину, нужно задать её распределение. Распределение – соотношение между значениями случайной величины (или интервалами её значений) и их вероятностями.\n",
    "\n",
    "В данном ноутбуке мы будем работать с дискретными случайными величинами. Распределение дискретной случайной величины описывается с помощью ряда (или закона) распределения. Ряд распределения дискретной случайной величины выглядит так: \n",
    "\n",
    "<table border=\"10\">\n",
    "  <tr>\n",
    "    <th>$X$</th>\n",
    "    <th>$x_1$</th>\n",
    "    <th>$x_2$</th>\n",
    "    <th>...</th>\n",
    "    <th>$x_n$</th>\n",
    "  </tr>\n",
    "  <tr>\n",
    "    <td>$p$</td>\n",
    "    <td>$p_1$</td>\n",
    "    <td>$p_2$</td>\n",
    "    <td>...</td>\n",
    "    <td>$p_n$</td>\n",
    "  </tr>\n",
    "</table>\n",
    "\n",
    "\n",
    "где \n",
    "\n",
    "1) $x_1 \\leqslant x_2 \\leqslant \\ldots \\leqslant x_n$, \n",
    "\n",
    "2) $0 < p_i \\leqslant 1$ для всех $i$\n",
    "\n",
    "3) $\\sum \\limits_{i=1}^{n}p_i = 1$ (комментарий к первому пункту: ряд может быть упорядочен по убыванию тоже)."
   ]
  },
  {
   "cell_type": "markdown",
   "metadata": {},
   "source": [
    "Перейдём к практике. Импортируем библиотеки `numpy` и `pandas`, которые понадобятся нам для создания массивов значений и выгрузки таблиц."
   ]
  },
  {
   "cell_type": "code",
   "execution_count": 1,
   "metadata": {},
   "outputs": [],
   "source": [
    "import numpy as np\n",
    "import pandas as pd"
   ]
  },
  {
   "cell_type": "markdown",
   "metadata": {},
   "source": [
    "### Ряд распределения дискретной случайной величины и визуализация её распределения"
   ]
  },
  {
   "cell_type": "markdown",
   "metadata": {},
   "source": [
    "Создадим два numpy-массива: первый – со значениями случайной величины, отсортированными по возрастанию, второй – с вероятностями, соответствующими этим значениям. Выведем их на экран:"
   ]
  },
  {
   "cell_type": "code",
   "execution_count": 2,
   "metadata": {},
   "outputs": [
    {
     "name": "stdout",
     "output_type": "stream",
     "text": [
      "[0 1 2 5 6]\n",
      "[0.3  0.05 0.1  0.15 0.4 ]\n"
     ]
    }
   ],
   "source": [
    "X = np.array([0, 1, 2, 5, 6])\n",
    "p = np.array([0.3, 0.05, 0.1, 0.15, 0.4])\n",
    "print(X)\n",
    "print(p)"
   ]
  },
  {
   "cell_type": "markdown",
   "metadata": {},
   "source": [
    "Допустим, что теперь мы захотим получить таблицу распределения случайной величины $X$, а затем выгрузить её в LaTeX. Создадим датафрейм `pandas`:"
   ]
  },
  {
   "cell_type": "code",
   "execution_count": 3,
   "metadata": {},
   "outputs": [
    {
     "data": {
      "text/html": [
       "<div>\n",
       "<style scoped>\n",
       "    .dataframe tbody tr th:only-of-type {\n",
       "        vertical-align: middle;\n",
       "    }\n",
       "\n",
       "    .dataframe tbody tr th {\n",
       "        vertical-align: top;\n",
       "    }\n",
       "\n",
       "    .dataframe thead th {\n",
       "        text-align: right;\n",
       "    }\n",
       "</style>\n",
       "<table border=\"1\" class=\"dataframe\">\n",
       "  <thead>\n",
       "    <tr style=\"text-align: right;\">\n",
       "      <th></th>\n",
       "      <th>0</th>\n",
       "      <th>1</th>\n",
       "      <th>2</th>\n",
       "      <th>3</th>\n",
       "      <th>4</th>\n",
       "    </tr>\n",
       "  </thead>\n",
       "  <tbody>\n",
       "    <tr>\n",
       "      <th>0</th>\n",
       "      <td>0.0</td>\n",
       "      <td>1.00</td>\n",
       "      <td>2.0</td>\n",
       "      <td>5.00</td>\n",
       "      <td>6.0</td>\n",
       "    </tr>\n",
       "    <tr>\n",
       "      <th>1</th>\n",
       "      <td>0.3</td>\n",
       "      <td>0.05</td>\n",
       "      <td>0.1</td>\n",
       "      <td>0.15</td>\n",
       "      <td>0.4</td>\n",
       "    </tr>\n",
       "  </tbody>\n",
       "</table>\n",
       "</div>"
      ],
      "text/plain": [
       "     0     1    2     3    4\n",
       "0  0.0  1.00  2.0  5.00  6.0\n",
       "1  0.3  0.05  0.1  0.15  0.4"
      ]
     },
     "execution_count": 3,
     "metadata": {},
     "output_type": "execute_result"
    }
   ],
   "source": [
    "r = pd.DataFrame([X, p])\n",
    "r"
   ]
  },
  {
   "cell_type": "markdown",
   "metadata": {},
   "source": [
    "Теперь уберём лишние названия столбцов (сделаем их пустыми строками) и вместо номеров строк добавим их названия `X` и `p`:"
   ]
  },
  {
   "cell_type": "code",
   "execution_count": 4,
   "metadata": {},
   "outputs": [
    {
     "data": {
      "text/html": [
       "<div>\n",
       "<style scoped>\n",
       "    .dataframe tbody tr th:only-of-type {\n",
       "        vertical-align: middle;\n",
       "    }\n",
       "\n",
       "    .dataframe tbody tr th {\n",
       "        vertical-align: top;\n",
       "    }\n",
       "\n",
       "    .dataframe thead th {\n",
       "        text-align: right;\n",
       "    }\n",
       "</style>\n",
       "<table border=\"1\" class=\"dataframe\">\n",
       "  <thead>\n",
       "    <tr style=\"text-align: right;\">\n",
       "      <th></th>\n",
       "      <th></th>\n",
       "      <th></th>\n",
       "      <th></th>\n",
       "      <th></th>\n",
       "      <th></th>\n",
       "    </tr>\n",
       "  </thead>\n",
       "  <tbody>\n",
       "    <tr>\n",
       "      <th>X</th>\n",
       "      <td>0.0</td>\n",
       "      <td>1.00</td>\n",
       "      <td>2.0</td>\n",
       "      <td>5.00</td>\n",
       "      <td>6.0</td>\n",
       "    </tr>\n",
       "    <tr>\n",
       "      <th>p</th>\n",
       "      <td>0.3</td>\n",
       "      <td>0.05</td>\n",
       "      <td>0.1</td>\n",
       "      <td>0.15</td>\n",
       "      <td>0.4</td>\n",
       "    </tr>\n",
       "  </tbody>\n",
       "</table>\n",
       "</div>"
      ],
      "text/plain": [
       "                            \n",
       "X  0.0  1.00  2.0  5.00  6.0\n",
       "p  0.3  0.05  0.1  0.15  0.4"
      ]
     },
     "execution_count": 4,
     "metadata": {},
     "output_type": "execute_result"
    }
   ],
   "source": [
    "r.columns = [''] * len(X)\n",
    "r.index = ['X', 'p']\n",
    "r"
   ]
  },
  {
   "cell_type": "markdown",
   "metadata": {},
   "source": [
    "Теперь при желании мы можем выбирать строки по их названию:"
   ]
  },
  {
   "cell_type": "code",
   "execution_count": 5,
   "metadata": {},
   "outputs": [
    {
     "name": "stdout",
     "output_type": "stream",
     "text": [
      "    0.0\n",
      "    1.0\n",
      "    2.0\n",
      "    5.0\n",
      "    6.0\n",
      "Name: X, dtype: float64\n"
     ]
    }
   ],
   "source": [
    "print(r.loc['X'])"
   ]
  },
  {
   "cell_type": "code",
   "execution_count": 6,
   "metadata": {},
   "outputs": [
    {
     "name": "stdout",
     "output_type": "stream",
     "text": [
      "    0.30\n",
      "    0.05\n",
      "    0.10\n",
      "    0.15\n",
      "    0.40\n",
      "Name: p, dtype: float64\n"
     ]
    }
   ],
   "source": [
    "print(r.loc['p'])"
   ]
  },
  {
   "cell_type": "markdown",
   "metadata": {},
   "source": [
    "И выполнять различные операции. Проверим, что вероятности заданы корректно:"
   ]
  },
  {
   "cell_type": "code",
   "execution_count": 7,
   "metadata": {},
   "outputs": [
    {
     "data": {
      "text/plain": [
       "1.0"
      ]
     },
     "execution_count": 7,
     "metadata": {},
     "output_type": "execute_result"
    }
   ],
   "source": [
    "sum(r.loc['p'])  # сумма равна 1"
   ]
  },
  {
   "cell_type": "code",
   "execution_count": 8,
   "metadata": {},
   "outputs": [
    {
     "data": {
      "text/plain": [
       "False"
      ]
     },
     "execution_count": 8,
     "metadata": {},
     "output_type": "execute_result"
    }
   ],
   "source": [
    "any(r.loc['p'] > 1) # есть ли элементы больше 1"
   ]
  },
  {
   "cell_type": "code",
   "execution_count": 9,
   "metadata": {},
   "outputs": [
    {
     "data": {
      "text/plain": [
       "False"
      ]
     },
     "execution_count": 9,
     "metadata": {},
     "output_type": "execute_result"
    }
   ],
   "source": [
    "any(r.loc['p'] < 0) # есть ли элементы меньше 0"
   ]
  },
  {
   "cell_type": "markdown",
   "metadata": {},
   "source": [
    "Теперь попробуем выгрузить таблицу в виде кода LaTeX:"
   ]
  },
  {
   "cell_type": "code",
   "execution_count": 10,
   "metadata": {},
   "outputs": [
    {
     "name": "stdout",
     "output_type": "stream",
     "text": [
      "\\begin{tabular}{lrrrrr}\n",
      "\\toprule\n",
      "{} \\\\\n",
      "\\midrule\n",
      "X &  0.0 &  1.00 &  2.0 &  5.00 &  6.0 \\\\\n",
      "p &  0.3 &  0.05 &  0.1 &  0.15 &  0.4 \\\\\n",
      "\\bottomrule\n",
      "\\end{tabular}\n",
      "\n"
     ]
    }
   ],
   "source": [
    "print(r.to_latex())"
   ]
  },
  {
   "cell_type": "markdown",
   "metadata": {},
   "source": [
    "Можем скопировать полученный код в tex-документ и при желании доработать. Однако некоторые стилевые особенности можно учесть сразу при выгрузке, указав нужные аргументы внутри метода `to_latex()`:"
   ]
  },
  {
   "cell_type": "code",
   "execution_count": 11,
   "metadata": {},
   "outputs": [
    {
     "name": "stdout",
     "output_type": "stream",
     "text": [
      "\\begin{tabular}{|l|c|c|c|c|c|}\n",
      "\\toprule\n",
      "{} \\\\\n",
      "\\midrule\n",
      "\\textbf{X} &  0,0 &  1,00 &  2,0 &  5,00 &  6,0 \\\\\n",
      "\\textbf{p} &  0,3 &  0,05 &  0,1 &  0,15 &  0,4 \\\\\n",
      "\\bottomrule\n",
      "\\end{tabular}\n",
      "\n"
     ]
    }
   ],
   "source": [
    "# bold_rows - выделить названия строк полужирным шрифтом\n",
    "# decimal – десятичный разделитель (меняем на запятую)\n",
    "# column format - выравнивание значений в столбцах (left, right, center)\n",
    "# плюс добавляем границы столбцов |\n",
    "\n",
    "print(r.to_latex(bold_rows=True, decimal=',', column_format='|l|c|c|c|c|c|'))"
   ]
  },
  {
   "cell_type": "markdown",
   "metadata": {},
   "source": [
    "Если вы не пользуетесь LaTeX, можно посмотреть, что получится, [здесь](https://www.overleaf.com/read/spgnggptzqdb) (кликните *Компилировать/Compile*). В ShareLateX-Overleaf удобно создавать tex-файлы, компилировать их в pdf, делиться ими, использовать шаблоны для статей, презентаций и резюме. Регистрация в нём бесплатная. \n",
    "\n",
    "Можно сразу выгрузить код LaTeX в tex-файл (но никакие строки в преамбуле и окружение `\\begin{document}-\\end{document}` сами добавляться не будут."
   ]
  },
  {
   "cell_type": "code",
   "execution_count": 12,
   "metadata": {},
   "outputs": [],
   "source": [
    "# выгрузка в файл table1.tex\n",
    "with open('table1.tex','w') as tf:\n",
    "    tf.write(r.to_latex())"
   ]
  },
  {
   "cell_type": "markdown",
   "metadata": {},
   "source": [
    "Теперь визуализируем вероятности, построим график, где по оси абсцисс идут значения случайной величины, а по оси ординат – соответствующие вероятности. Импортируем библиотеку для графики:"
   ]
  },
  {
   "cell_type": "code",
   "execution_count": 13,
   "metadata": {},
   "outputs": [],
   "source": [
    "from matplotlib import pyplot as plt"
   ]
  },
  {
   "cell_type": "markdown",
   "metadata": {},
   "source": [
    "Вспомним, что у нас есть массивы `X` и `p`:"
   ]
  },
  {
   "cell_type": "code",
   "execution_count": 14,
   "metadata": {},
   "outputs": [
    {
     "name": "stdout",
     "output_type": "stream",
     "text": [
      "[0 1 2 5 6] [0.3  0.05 0.1  0.15 0.4 ]\n"
     ]
    }
   ],
   "source": [
    "print(X, p)"
   ]
  },
  {
   "cell_type": "markdown",
   "metadata": {},
   "source": [
    "Построим график:"
   ]
  },
  {
   "cell_type": "code",
   "execution_count": 15,
   "metadata": {},
   "outputs": [
    {
     "data": {
      "image/png": "[encoded data removed]",
      "text/plain": [
       "<Figure size 432x288 with 1 Axes>"
      ]
     },
     "metadata": {},
     "output_type": "display_data"
    }
   ],
   "source": [
    "# строим сам график X на p\n",
    "# добавляем цвет, толщину линий и прозрачность 50%\n",
    "plt.vlines(X, 0, p, colors='red', lw=5, alpha=0.5)\n",
    "\n",
    "# добавим границы значений по осям \n",
    "# [min по x, max по x, min по y, max по y]\n",
    "plt.axis([-1, 7, 0, 0.5])\n",
    "\n",
    "# сохраним график\n",
    "plt.savefig('xprob.png')"
   ]
  },
  {
   "cell_type": "markdown",
   "metadata": {},
   "source": [
    "Получили неплохую визуализацию распределения дискретной случайной величины: по графику видно, какие значения она принимает, с какими вероятностями, какое значение является наиболее вероятным."
   ]
  },
  {
   "cell_type": "markdown",
   "metadata": {},
   "source": [
    "Можем построить *многоугольник распределения*: похожий график, только вместо вертикальных линий будем соединять точки последовательно:"
   ]
  },
  {
   "cell_type": "code",
   "execution_count": 16,
   "metadata": {},
   "outputs": [
    {
     "data": {
      "text/plain": [
       "[<matplotlib.lines.Line2D at 0x11d688dd8>]"
      ]
     },
     "execution_count": 16,
     "metadata": {},
     "output_type": "execute_result"
    },
    {
     "data": {
      "image/png": "[encoded data removed]",
      "text/plain": [
       "<Figure size 432x288 with 1 Axes>"
      ]
     },
     "metadata": {},
     "output_type": "display_data"
    }
   ],
   "source": [
    "plt.plot(X, p, '--bo', color='red')  # --bo - both, и линии и точки одновременно, линия пунктиром"
   ]
  },
  {
   "cell_type": "markdown",
   "metadata": {},
   "source": [
    "### Математическое ожидание, дисперсия и другие характеристики СВ"
   ]
  },
  {
   "cell_type": "markdown",
   "metadata": {},
   "source": [
    "**Математическое ожидание** – среднее ожидаемое значение случайной величины, которое считается следующим образом:\n",
    "\n",
    "$$\n",
    "E(X) = \\sum\\limits_{i=1}^{n} x_i \\cdot p_i .\n",
    "$$\n",
    "\n",
    "**Дисперсия** – показатель вариации, изменчивости случайной величины, который отражает то, насколько сильно значения случайной величины колеблются вокруг среднего ожидаемого значения. Считается следующим образом: \n",
    "\n",
    "$$\n",
    "D(X) = E(X-E(X))^2 = E(X^2) - [E(X)]^2.\n",
    "$$\n",
    "\n",
    "Проблема: дисперсия не очень хорошо интерпретируема, так как в силу методики расчёта представлена не в исходных единицах измерения, а в единицах измерения, возведённых в квадрат.\n",
    "\n",
    "**Стандартное отклонение** – как и дисперсия, показатель вариации или изменчивости случайной величины, однако, в отличие от дисперсии, является более интерпретируемым, так как измеряется в тех же единицах, что и сама случайная величина. Считается следующим образом:\n",
    "\n",
    "$$\n",
    "sd(X) = \\sqrt{D(X)}.\n",
    "$$\n",
    "\n",
    "По одним значениям дисперсии или стандартного отклонения случайной величины иногда сложно определить, насколько изменчива случайная величина. Сравним два случая.\n",
    "\n",
    "*Случай 1.* У нас есть две случайных величины, которые описывают оценки студентов в двух группах. Математическое ожидание оценок в двух группах одинаково и равно 4.2. Стандартное отклонение оценок в одной группе составляет 0.8 балла, а в другой – 1.8 балла. Исходя из данных мы можем заключить, что студенты в первой группе занимаются более «стабильно» в том смысле, что там нет большого числа двоечников и отличников, то есть студентов, чьи оценки сильно отклоняются от среднего ожидаемого значения. Во второй группе состав студентов, видимо, более разнообразный, и достаточно высокая средняя ожидаемая оценка обеспечивается за счёт большой доли отличников, а не за счёт более-менее хорошей успеваемости всех учащихся. \n",
    "\n",
    "*Случай 2.* Если у нас есть данные только по одной группе студентов, сравнивать стандартное отклонение было бы не с чем. Определить, большое оно или маленькое, просто так у нас не получится. Поэтому на практике иногда используют следующий показатель.\n",
    "\n",
    "**Коэффициент вариации** – показатель изменчивости случайной величины, который позволяет оценить разброс значений относительно среднего ожидаемого значения. Считается он очень просто:\n",
    "\n",
    "$$\n",
    "CV(X) = \\frac{sd(X)}{E(X)}.\n",
    "$$\n",
    "\n",
    "\n",
    "Обычно коэффициент вариации, взятый по модулю, лежит на отрезке от $0$ до $1$. Однако, если разнообразие значений слишком большое, коэффициент вариации может превосходить $1$. Интерпретировать коэффициент вариации можно так (границы значений указаны примерно, насчёт них не существует строгого соглашения):\n",
    "\n",
    "* $0<|CV|<0.3$ – низкая изменчивость\n",
    "* $0.3 \\leqslant |CV| < 0.7$ – средняя изменчивость\n",
    "* $|CV| \\geqslant 0.7$ – высокая изменчивость."
   ]
  },
  {
   "cell_type": "markdown",
   "metadata": {},
   "source": [
    "Посчитаем математическое ожидание случайной величины $X$, созданной ранее: перемножим значения на вероятности и суммируем полученные произведения, то есть посчитаем скалярное произведение двух векторов `X` и `p`:"
   ]
  },
  {
   "cell_type": "code",
   "execution_count": 17,
   "metadata": {},
   "outputs": [
    {
     "data": {
      "text/plain": [
       "3.4000000000000004"
      ]
     },
     "execution_count": 17,
     "metadata": {},
     "output_type": "execute_result"
    }
   ],
   "source": [
    "ex = np.dot(X, p)\n",
    "ex"
   ]
  },
  {
   "cell_type": "markdown",
   "metadata": {},
   "source": [
    "Теперь посчитаем дисперсию $X$, используя формулу выше:"
   ]
  },
  {
   "cell_type": "code",
   "execution_count": 18,
   "metadata": {},
   "outputs": [
    {
     "data": {
      "text/plain": [
       "7.039999999999999"
      ]
     },
     "execution_count": 18,
     "metadata": {},
     "output_type": "execute_result"
    }
   ],
   "source": [
    "dx = np.dot(X**2, p) - np.dot(X, p)**2\n",
    "dx  # опять причуды типа float"
   ]
  },
  {
   "cell_type": "markdown",
   "metadata": {},
   "source": [
    "И стандартное отклонение $X$:"
   ]
  },
  {
   "cell_type": "code",
   "execution_count": 19,
   "metadata": {},
   "outputs": [
    {
     "data": {
      "text/plain": [
       "2.6532998322843198"
      ]
     },
     "execution_count": 19,
     "metadata": {},
     "output_type": "execute_result"
    }
   ],
   "source": [
    "sx = np.sqrt(dx)\n",
    "sx"
   ]
  },
  {
   "cell_type": "markdown",
   "metadata": {},
   "source": [
    "А теперь коэффициент вариации:"
   ]
  },
  {
   "cell_type": "code",
   "execution_count": 20,
   "metadata": {},
   "outputs": [
    {
     "data": {
      "text/plain": [
       "0.7803823036130352"
      ]
     },
     "execution_count": 20,
     "metadata": {},
     "output_type": "execute_result"
    }
   ],
   "source": [
    "cv = sx / ex\n",
    "cv"
   ]
  },
  {
   "cell_type": "markdown",
   "metadata": {},
   "source": [
    "Коэффициент вариации достаточно высокий, можем сделать вывод, что значения случайной величины $X$ сильно колеблются относительно среднего ожидаемого значения.\n",
    "\n",
    "Конечно, не для всех случайных величин приведенные выше характеристики придётся вычислять вручную. Если распределение известно, то характеристики можно посчитать автоматически, создав особую переменную в Python и задав параметры распределения случайной величины. Но об этом – в следующем ноутбуке."
   ]
  },
  {
   "cell_type": "markdown",
   "metadata": {},
   "source": [
    "### Генерация задач на дискретные случайные величины"
   ]
  },
  {
   "cell_type": "markdown",
   "metadata": {},
   "source": [
    "Представим, что нам нужно сгенерировать много вариантов текстов несложной задачи такого вида.\n",
    "\n",
    "**Задача**\n",
    "\n",
    "Дан ряд распределения случайной величины $X$:\n",
    "\n",
    "<table border=\"10\">\n",
    "  <tr>\n",
    "    <th>$X$</th>\n",
    "    <th>$0$</th>\n",
    "    <th>$4$</th>\n",
    "    <th>$7$</th>\n",
    "    <th>$12$</th>\n",
    "  </tr>\n",
    "  <tr>\n",
    "    <td>$p$</td>\n",
    "    <td>$0.1$</td>\n",
    "    <td>$0.3$</td>\n",
    "    <td>$0.2$</td>\n",
    "    <td>$0.4$</td>\n",
    "  </tr>\n",
    "</table>\n",
    "\n",
    "Найдите математическое ожидание и дисперсию $X$."
   ]
  },
  {
   "cell_type": "markdown",
   "metadata": {},
   "source": [
    "Что нам потребуется для автоматической генерации текста? Во-первых, текстовый шаблон, в который мы будем подставлять разные таблицы распределения.  Во-вторых, массив значений случайной величины, причём хорошо бы, чтобы число значений менялось от варианта к варианту. В-третьих, массив со значениями вероятностей. Понятно, что если на массив значений нет необходимости накладывать ограничения (можно брать любые значения из какого-нибудь фиксированного интервала, как целые, так и дробные), то на массив вероятностей накладывается сразу два ограничения: все значения должны принадлежать интервалу $(0, 1)$ и в сумме давать $1$. \n",
    "\n",
    "Для создания массива значений случайной величины можно воспользоваться функциями из модуля `random` библиотеки `numpy`. Сначала можно случайным (псевдослучайным, как это обычно происходит в программировании ввиду того, что алгоритмы детерминистские) образом выбрать целое число из заданного интервала. Это будет длина одномерного массива, то есть число значений дискретной случайной величины."
   ]
  },
  {
   "cell_type": "code",
   "execution_count": 21,
   "metadata": {},
   "outputs": [],
   "source": [
    "from numpy import random as rd"
   ]
  },
  {
   "cell_type": "code",
   "execution_count": 24,
   "metadata": {},
   "outputs": [
    {
     "data": {
      "text/plain": [
       "4"
      ]
     },
     "execution_count": 24,
     "metadata": {},
     "output_type": "execute_result"
    }
   ],
   "source": [
    "n = rd.randint(4, 7)  # от 4 до 7 включительно\n",
    "n"
   ]
  },
  {
   "cell_type": "markdown",
   "metadata": {},
   "source": [
    "Потом можно создать массив длины `n`, состоящий, например, из целых значений, взятых из определенного интервала. Можно выбрать и дробные – вспомните, как выставляется шаг в функции `arange()`."
   ]
  },
  {
   "cell_type": "code",
   "execution_count": 25,
   "metadata": {},
   "outputs": [
    {
     "data": {
      "text/plain": [
       "array([ 2,  0, -4,  6])"
      ]
     },
     "execution_count": 25,
     "metadata": {},
     "output_type": "execute_result"
    }
   ],
   "source": [
    "x = rd.choice(np.arange(-10, 10), size=n) # n значений из полуинтервала [-10; 10), все целые\n",
    "x"
   ]
  },
  {
   "cell_type": "markdown",
   "metadata": {},
   "source": [
    "Одна проблема: в ряде распределения значения должны быть упорядочены (обычно по возрастанию), плюс, все значения должны быть уникальны. Учтём это сразу:"
   ]
  },
  {
   "cell_type": "code",
   "execution_count": 26,
   "metadata": {},
   "outputs": [
    {
     "data": {
      "text/plain": [
       "array([-5, -4, -3,  1])"
      ]
     },
     "execution_count": 26,
     "metadata": {},
     "output_type": "execute_result"
    }
   ],
   "source": [
    "# сгенерим заново и сразу отсортируем\n",
    "# добавим аргумент replace=False – без повторений\n",
    "x = np.sort(rd.choice(np.arange(-10, 10), size=n, replace=False)) \n",
    "x"
   ]
  },
  {
   "cell_type": "markdown",
   "metadata": {},
   "source": [
    "Если сгенерировать набор значений случайной величины просто, то с вероятностями всё немного сложнее. Конечно, поступать можно по-разному, но я предлагаю воспользоваться следующим способом: сгенерировать выборку из распределения Дирихле. Распределение Дирихле – многомерное непрерывное распределение, которое параметризуется вектором $\\alpha = (\\alpha_1, \\alpha_2, \\ldots, \\alpha_k)$, где $k$ – число измерений и $\\forall i \\in \\{1, 2, \\ldots, k\\}$ : $\\alpha_i > 0$. Значения случайной величины $X$, имеющей распределение Дирихле, принадлежат стандартному $(k-1)$-симплексу, то есть обладают следующими свойствами:\n",
    "\n",
    "1) $\\sum\\limits_{i=1}^{k}x_i = 1$\n",
    "\n",
    "2) $\\forall i \\in \\{1, 2, \\ldots, k\\}$: $x_i \\geqslant 0$. \n",
    "\n",
    "Распределение Дирихле очень полезно с точки зрения моделирования и машинного обучения, часто используется в тематическом моделировании в качестве сопряжённого априорного распределения (об этом стоит поговорить отдельно, чуть позже, если на предыдущих специализациях не было введения в байесовские методы) для категориального распределения, которое задаёт распределение тем в тексте. Текст в таком случае рассматривается как «смесь тем», причём каждая тема может встретиться с некоторой вероятностью. В качестве стартовых значений (например, до обучения модели, которая будет предсказывать тематику текста) можно принять все вероятности равными. Например, текст новости про спор спортсменов в Государственной Думе может с вероятностью 0.25 относиться к политике, к спорту, к медицине и к культуре. \n",
    "\n",
    "Если знакомы с теорией вероятностей на более глубоком уровне, имеет смысл почитать про распределение Дирихле как обобщение бета-распределения на многомерный случай (хотя бы ознакомительно [здесь](https://en.wikipedia.org/wiki/Dirichlet_distribution), это красиво). А мы пока сосредоточимся на двух свойствах, приведённых выше, и поймём, как их применить для нашего случая. Как можно заметить, набор значений случайной величины, имеющей распределение Дирихле, идеально подходит для того, чтобы использовать его в качестве массива вероятностей. Чтобы определить случайную величину с распределением Дирихле, нужно задать вектор параметров $\\alpha$, длина которого совпадает с числом `n`: число элементов $\\alpha$ совпадает с числом полученных значений из распределения Дирихле, а значения из распределения Дирихле и есть вероятности, которые войдут в наш массив. Создадим вектор $\\alpha$ длины $n$, помня, что все значения вектора положительны."
   ]
  },
  {
   "cell_type": "code",
   "execution_count": 27,
   "metadata": {},
   "outputs": [
    {
     "data": {
      "text/plain": [
       "array([13, 25, 21, 23])"
      ]
     },
     "execution_count": 27,
     "metadata": {},
     "output_type": "execute_result"
    }
   ],
   "source": [
    "alphas = rd.choice(np.arange(10, 26), n, replace=False)  # n=4 положительных чисел из интервала [10, 26]\n",
    "alphas"
   ]
  },
  {
   "cell_type": "markdown",
   "metadata": {},
   "source": [
    "Теперь получим 4 значения из распределения Дирихле, которые зависят от выбранных значений вектора $\\alpha$:"
   ]
  },
  {
   "cell_type": "code",
   "execution_count": 36,
   "metadata": {},
   "outputs": [
    {
     "data": {
      "text/plain": [
       "array([0.16750667, 0.35904364, 0.20509803, 0.26835166])"
      ]
     },
     "execution_count": 36,
     "metadata": {},
     "output_type": "execute_result"
    }
   ],
   "source": [
    "p = rd.dirichlet(alphas) \n",
    "p"
   ]
  },
  {
   "cell_type": "markdown",
   "metadata": {},
   "source": [
    "Ура! Теперь у нас есть наборы значений случайной величины $X$ и соответствующие им вероятности:"
   ]
  },
  {
   "cell_type": "code",
   "execution_count": 37,
   "metadata": {},
   "outputs": [
    {
     "name": "stdout",
     "output_type": "stream",
     "text": [
      "[-5 -4 -3  1] [0.16750667 0.35904364 0.20509803 0.26835166]\n"
     ]
    }
   ],
   "source": [
    "print(x, p)"
   ]
  },
  {
   "cell_type": "markdown",
   "metadata": {},
   "source": [
    "Однако, есть проблема. Все вероятности выбраны случайно и имеют не очень подходящий для включения в задачу вид. Первая мысль: можно округлить:"
   ]
  },
  {
   "cell_type": "code",
   "execution_count": 38,
   "metadata": {},
   "outputs": [
    {
     "data": {
      "text/plain": [
       "array([0.2, 0.4, 0.2, 0.3])"
      ]
     },
     "execution_count": 38,
     "metadata": {},
     "output_type": "execute_result"
    }
   ],
   "source": [
    "p.round(1)"
   ]
  },
  {
   "cell_type": "markdown",
   "metadata": {},
   "source": [
    "Идея хорошая, но тут можно столкнуться с проблемой: после округления сумма вероятностей может быть не равна 1!"
   ]
  },
  {
   "cell_type": "code",
   "execution_count": 39,
   "metadata": {},
   "outputs": [
    {
     "data": {
      "text/plain": [
       "1.1"
      ]
     },
     "execution_count": 39,
     "metadata": {},
     "output_type": "execute_result"
    }
   ],
   "source": [
    "sum(p.round(1))  # больше 1"
   ]
  },
  {
   "cell_type": "markdown",
   "metadata": {},
   "source": [
    "Чтобы это исправить, можно выбрать наибольший элемент массива и вычесть из него разность между суммой данного массива и единицей (так как разность вряд ли будет большая, отрицательных вероятностей мы не получим):"
   ]
  },
  {
   "cell_type": "code",
   "execution_count": 40,
   "metadata": {},
   "outputs": [
    {
     "data": {
      "text/plain": [
       "1"
      ]
     },
     "execution_count": 40,
     "metadata": {},
     "output_type": "execute_result"
    }
   ],
   "source": [
    "p = p.round(1)  # обновляем массив, окгругляя значения\n",
    "p_max = p.argmax() # возвращаем индекс наибольшего элемента в p\n",
    "p_max  # элемент с таким индексом наибольший"
   ]
  },
  {
   "cell_type": "code",
   "execution_count": 41,
   "metadata": {},
   "outputs": [
    {
     "data": {
      "text/plain": [
       "array([0.2, 0.3, 0.2, 0.3])"
      ]
     },
     "execution_count": 41,
     "metadata": {},
     "output_type": "execute_result"
    }
   ],
   "source": [
    "diff = p.sum() - 1  # разность между суммой и 1\n",
    "p[p_max] = p[p_max] - diff  # обновляем значение\n",
    "p  # обновленный массив с суммой элементов 1"
   ]
  },
  {
   "cell_type": "markdown",
   "metadata": {},
   "source": [
    "Если сумма элементов получилась меньше $1$, то можно, наоборот, добавить разницу к минимальному элементу `p`:"
   ]
  },
  {
   "cell_type": "code",
   "execution_count": null,
   "metadata": {},
   "outputs": [],
   "source": [
    "# не наш случай, пока прогонять не будем\n",
    "\n",
    "p = p.round(1)  # обновляем массив, окгругляя значения\n",
    "p_min = p.argmin() # возвращаем индекс наименьшего элемента в p\n",
    "diff = 1 - p.sum()  # разность между суммой и 1\n",
    "p[p_min] = p[p_min] + diff "
   ]
  },
  {
   "cell_type": "markdown",
   "metadata": {},
   "source": [
    "Всё! Осталось получить ряд распределения в виде датафрейма pandas и выгрузить её в LaTeX:"
   ]
  },
  {
   "cell_type": "code",
   "execution_count": 42,
   "metadata": {},
   "outputs": [
    {
     "data": {
      "text/html": [
       "<div>\n",
       "<style scoped>\n",
       "    .dataframe tbody tr th:only-of-type {\n",
       "        vertical-align: middle;\n",
       "    }\n",
       "\n",
       "    .dataframe tbody tr th {\n",
       "        vertical-align: top;\n",
       "    }\n",
       "\n",
       "    .dataframe thead th {\n",
       "        text-align: right;\n",
       "    }\n",
       "</style>\n",
       "<table border=\"1\" class=\"dataframe\">\n",
       "  <thead>\n",
       "    <tr style=\"text-align: right;\">\n",
       "      <th></th>\n",
       "      <th></th>\n",
       "      <th></th>\n",
       "      <th></th>\n",
       "      <th></th>\n",
       "    </tr>\n",
       "  </thead>\n",
       "  <tbody>\n",
       "    <tr>\n",
       "      <th>X</th>\n",
       "      <td>-5.0</td>\n",
       "      <td>-4.0</td>\n",
       "      <td>-3.0</td>\n",
       "      <td>1.0</td>\n",
       "    </tr>\n",
       "    <tr>\n",
       "      <th>p</th>\n",
       "      <td>0.2</td>\n",
       "      <td>0.3</td>\n",
       "      <td>0.2</td>\n",
       "      <td>0.3</td>\n",
       "    </tr>\n",
       "  </tbody>\n",
       "</table>\n",
       "</div>"
      ],
      "text/plain": [
       "                     \n",
       "X -5.0 -4.0 -3.0  1.0\n",
       "p  0.2  0.3  0.2  0.3"
      ]
     },
     "execution_count": 42,
     "metadata": {},
     "output_type": "execute_result"
    }
   ],
   "source": [
    "table = pd.DataFrame([x, p])\n",
    "table.columns = [''] * len(x)\n",
    "table.index = ['X', 'p']\n",
    "table"
   ]
  },
  {
   "cell_type": "code",
   "execution_count": 43,
   "metadata": {},
   "outputs": [
    {
     "data": {
      "text/plain": [
       "'|c|c|c|c|c|'"
      ]
     },
     "execution_count": 43,
     "metadata": {},
     "output_type": "execute_result"
    }
   ],
   "source": [
    "cols = \"|\" + \"|\".join(['c'] * (n + 1)) + \"|\"  # границы для n столбцов\n",
    "cols"
   ]
  },
  {
   "cell_type": "markdown",
   "metadata": {},
   "source": [
    "Произведём замену некоторых подстрок, чтобы строки в таблице были явно отчерчены:"
   ]
  },
  {
   "cell_type": "code",
   "execution_count": 44,
   "metadata": {},
   "outputs": [
    {
     "name": "stdout",
     "output_type": "stream",
     "text": [
      "\\begin{tabular}{|c|c|c|c|c|}\n",
      "\n",
      "\n",
      "\\hline\n",
      "X & -5.0 & -4.0 & -3.0 &  1.0 \\\\ \\hline\n",
      "p &  0.2 &  0.3 &  0.2 &  0.3 \\\\ \\hline\n",
      "\n",
      "\\end{tabular}\n",
      "\n"
     ]
    }
   ],
   "source": [
    "latex_tab = table.to_latex(column_format=cols)\n",
    "latex_tab = latex_tab.replace('\\\\midrule', '\\\\hline').replace('\\\\bottomrule', '')\n",
    "latex_tab = latex_tab.replace('\\\\toprule', '').replace('{} \\\\\\\\','')\n",
    "latex_tab = latex_tab.replace('\\\\\\\\', '\\\\\\\\ \\\\hline')\n",
    "print(latex_tab)"
   ]
  },
  {
   "cell_type": "markdown",
   "metadata": {},
   "source": [
    "Теперь, когда мы убедились, что всё работает, и таблица получается, осталось написать функцию, которая будет случайным образом выбирать число значений случайной величины, генерировать их вместе с вероятностями и возвращать текст задачи в LaTeX вместе с ответом:"
   ]
  },
  {
   "cell_type": "code",
   "execution_count": 45,
   "metadata": {},
   "outputs": [],
   "source": [
    "from numpy import random as rd\n",
    "\n",
    "def problem_distribution():\n",
    "    \n",
    "    # скопируем все строки из ячеек выше\n",
    "    n = rd.randint(4, 7)\n",
    "    x = np.sort(rd.choice(np.arange(-10, 10), size=n, replace=False))\n",
    "    \n",
    "    alphas = rd.choice(np.arange(10, 26), n, replace=False)\n",
    "    p = rd.dirichlet(alphas) \n",
    "    p = p.round(1) \n",
    "    \n",
    "    if sum(p) > 1: \n",
    "        p_max = p.argmax()\n",
    "        diff = p.sum() - 1\n",
    "        p[p_max] = p[p_max] - diff \n",
    "    \n",
    "    if sum(p) < 1:\n",
    "        p_min = p.argmin() \n",
    "        diff = 1 - p.sum()  # разность между суммой и 1\n",
    "        p[p_min] = p[p_min] + diff \n",
    "    \n",
    "    table = pd.DataFrame([x, p])\n",
    "    table.columns = [''] * len(x)\n",
    "    table.index = ['X', 'p']\n",
    "    \n",
    "    cols = \"|\" + \"|\".join(['c'] * (n + 1)) + \"|\" \n",
    "    latex_tab = table.to_latex(column_format=cols)\n",
    "    latex_tab = latex_tab.replace('\\\\midrule', '\\\\hline').replace('\\\\bottomrule', '')\n",
    "    latex_tab = latex_tab.replace('\\\\toprule', '').replace('{} \\\\\\\\','')\n",
    "    latex_tab = latex_tab.replace('\\\\\\\\', '\\\\\\\\ \\\\hline')\n",
    "    \n",
    "    # добавим текст задачи: шаблон с подставленной таблицей\n",
    "    text = \"\"\"Дан ряд распределения случайной величины $X$. \n",
    "    \\\\begin{center} \n",
    "    %s\n",
    "    \\\\end{center}\n",
    "    Найдите математическое ожидание и дисперсию $X$.\n",
    "    \"\"\" %latex_tab\n",
    "    \n",
    "    # ответы\n",
    "    Ex = np.dot(x, p)\n",
    "    Dx = np.dot(x ** 2, p) - Ex ** 2\n",
    "    answer = [Ex, Dx]\n",
    "    \n",
    "    return text, answer"
   ]
  },
  {
   "cell_type": "markdown",
   "metadata": {},
   "source": [
    "Выгрузим одну задачу в tex-файл (пока без ответов):"
   ]
  },
  {
   "cell_type": "code",
   "execution_count": 46,
   "metadata": {},
   "outputs": [],
   "source": [
    "with open('variant1.tex','w') as tf:\n",
    "    preamble = \"\"\"\n",
    "    \\\\documentclass[a4paper,12pt]{article}\n",
    "    \\\\usepackage[utf8]{inputenc}\n",
    "    \\\\usepackage[english,russian]{babel}\n",
    "    \\\\usepackage{geometry}\n",
    "    \\\\geometry{top=20mm}\n",
    "    \\\\geometry{bottom=10mm}\n",
    "    \\\\geometry{left=10mm}\n",
    "    \\\\geometry{right=20mm}\n",
    "    \"\"\"\n",
    "    begin, end = '\\\\begin{document}', '\\\\end{document}'\n",
    "    tf.write(preamble)  # запишем преамбулу\n",
    "    tf.write(begin)  # зафиксируем начало документа\n",
    "    tf.write(problem_distribution()[0])  # запишем текст задачи\n",
    "    tf.write(end)  # зафиксируем конец документа\n",
    "    tf.close()"
   ]
  },
  {
   "cell_type": "markdown",
   "metadata": {},
   "source": [
    "А теперь создадим сразу 10 разных вариантов в одном документе и txt-файл с ответами к ним. Для этого нам понадобится цикл и `range()` от 1 до 11:"
   ]
  },
  {
   "cell_type": "code",
   "execution_count": 47,
   "metadata": {},
   "outputs": [],
   "source": [
    "preamble = \"\"\"\n",
    "    \\\\documentclass[a4paper,12pt]{article}\n",
    "    \\\\usepackage[utf8]{inputenc}\n",
    "    \\\\usepackage[english,russian]{babel}\n",
    "    \\\\usepackage{geometry}\n",
    "    \\\\geometry{top=20mm}\n",
    "    \\\\geometry{bottom=20mm}\n",
    "    \\\\geometry{left=20mm}\n",
    "    \\\\geometry{right=20mm}\n",
    "    \\\\setlength\\\\parindent{0pt}\n",
    "    \"\"\"\n",
    "begin, end = '\\\\begin{document}', '\\\\end{document}'\n",
    "\n",
    "# создаем tex-файл для вариантов и записываем туда преамбулу \n",
    "# и \\begin{document}\n",
    "tf = open('variants.tex','w')\n",
    "tf.write(preamble)\n",
    "tf.write(begin)\n",
    "\n",
    "# создаем txt-файл для ответов\n",
    "f = open('variants.txt','w')\n",
    "\n",
    "# генерим 10 вариантов с номерами 1-10\n",
    "for v in range(1, 11):\n",
    "    tf.write('Вариант ' + str(v) + '\\\\medskip\\\\par')  # запишем в tex строку с вариантом\n",
    "    f.write('Вариант ' + str(v) + '\\n') # запишем вариант в txt-файл с ответами\n",
    "    \n",
    "    problem, answer = problem_distribution() # создаем задачу с ответом\n",
    "    tf.write(problem)  # записываем текст задачи в tex\n",
    "    \n",
    "    answer_text = f'E(X) = {answer[0]} \\n D(X) = {answer[1]}'  # формируем ответ в понятном виде\n",
    "    f.write(answer_text)  # записываем ответы в txt-файл с ответами\n",
    "    \n",
    "    tf.write('\\\\bigskip\\\\par')  # добавляем отступ после задачи в tex\n",
    "    f.write('\\n\\n')   # добавляем отступ после ответов в txt\n",
    "    \n",
    "tf.write(end)  # записываем строку с \\end{document} в tex\n",
    "\n",
    "# закрываем оба файла, чтобы не потерять изменения\n",
    "tf.close()\n",
    "f.close()"
   ]
  },
  {
   "cell_type": "markdown",
   "metadata": {},
   "source": [
    "Осталось найти файлы на компьютере и скомпилировать tex-файл, чтобы получить красивый pdf. Результат можно посмотреть [здесь](https://www.overleaf.com/read/fgzzckmsmbpw)."
   ]
  }
 ],
 "metadata": {
  "kernelspec": {
   "display_name": "Python 3",
   "language": "python",
   "name": "python3"
  },
  "language_info": {
   "codemirror_mode": {
    "name": "ipython",
    "version": 3
   },
   "file_extension": ".py",
   "mimetype": "text/x-python",
   "name": "python",
   "nbconvert_exporter": "python",
   "pygments_lexer": "ipython3",
   "version": "3.6.5"
  }
 },
 "nbformat": 4,
 "nbformat_minor": 2
}
