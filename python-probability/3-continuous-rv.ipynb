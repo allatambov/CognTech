{
 "cells": [
  {
   "cell_type": "markdown",
   "metadata": {},
   "source": [
    "# Когнитивные технологии\n",
    "\n",
    "*Алла Тамбовцева*"
   ]
  },
  {
   "cell_type": "markdown",
   "metadata": {},
   "source": [
    "## Непрерывные случайные величины: практикум в Python\n",
    "\n",
    "### Немного теории\n",
    "\n",
    "Непрерывные случайные величины – величины, которые принимают бесконечное множество значений. Из-за того, что множество значений бесконечно, вероятность вида $P(X=x_0)$, где $x_0$ – некоторое значение непрерывной случайной величины $X$, равна $0$. Непрерывные случайные величины описываются в помощью функции распределения (английский эквивалент *cumulative density function*, часто сокращается до *cdf*) и функции плотности распределения (английский эквивалент *probability density function*, часто сокращается до *pdf*). Функция распределения для непрерывной величины, в отличие от дискретной, определяется однозначно, поскольку:\n",
    "\n",
    "$$\n",
    "F(x) = P(X\\leqslant x) = P(X<x).\n",
    "$$\n",
    "\n",
    "Функция плотности распределения определяется как производная функции распределения: \n",
    "\n",
    "$$\n",
    "f(x) = F'(x).\n",
    "$$\n",
    "\n",
    "Если посмотреть на функцию распределения, видно, что это функция монотонно не убывает: она «накапливает» вероятности и за счёт этого с ростом значений $X$ значения самой функции увеличиваются. Отсюда следует, что $f(x)\\geqslant 0$. Плюс, так как площадь под графиком функции плотности на участке от $-\\infty$ до $+\\infty$ сопоставима с результатом суммирования вероятностей всех возможных интервалов значений, отсюда вытекает следующее свойство: $\\int\\limits_{-\\infty}^{+\\infty}f(x)dx = 1$.\n",
    "\n",
    "\n",
    "Для непрерывной случайной величины $X$ с функцией плотности вероятности $f(x)$ и $a<b$:\n",
    "\n",
    "$$\n",
    "P(a < X < b) = F(b)-F(a) = \\int\\limits_{a}^{b} f(x) dx.\n",
    "$$\n",
    "\n",
    "Геометрически это означает, что вероятность попадания значений случайной в промежуток от $a$ до $b$ равна площади под графиком функции плотности вероятности на этом промежутке. \n",
    "\n",
    "Так как общие математические факты вряд ли вызовут затруднения у слушателей, хотелось бы предложить разобраться, как некоторые вещи можно проиллюстрировать в Python."
   ]
  },
  {
   "cell_type": "markdown",
   "metadata": {},
   "source": [
    "Рассмотрим функцию плотности распределения непрерывной случайной величины со следующей функцией распределения:\n",
    "\n",
    "$$\n",
    "f(x) = \\begin{cases} \n",
    "\\frac{2}{9} x, & x \\in (0, 3)\\\\\n",
    "0, & x \\notin (0, 3)\\\\\n",
    "\\end{cases}\n",
    "$$"
   ]
  },
  {
   "cell_type": "markdown",
   "metadata": {},
   "source": [
    "Построим её график."
   ]
  },
  {
   "cell_type": "code",
   "execution_count": 23,
   "metadata": {},
   "outputs": [],
   "source": [
    "from matplotlib import pyplot as plt\n",
    "%matplotlib inline"
   ]
  },
  {
   "cell_type": "markdown",
   "metadata": {},
   "source": [
    "Возьмём $100$ точек из диапазона от $-10$ до $3$, а затем применим к получившему массиву кусочно-заданную функцию с помощью метода `.piecewise()`. Для этого нужно задать область определения функции в рамках нашей задачи (здесь массив `xs`), сформулировать условия и задать значения, которые принимает функция в зависимости от выполнения условий. "
   ]
  },
  {
   "cell_type": "code",
   "execution_count": 65,
   "metadata": {},
   "outputs": [],
   "source": [
    "xs1 = np.linspace(-10, 3, 100)\n",
    "\n",
    "# одновременное выполнение условий записывается через *, или-или – через +\n",
    "# сначала условия (в нашем случае второе можно оставить пустым, так как условия взаимоисключающие)\n",
    "# потом значения (через lambda-функцию или просто число)\n",
    "\n",
    "fx1 = np.piecewise(xs1, \n",
    "                  [(xs1 >= 0) * (xs1 < 3), ], \n",
    "                  [lambda x: 2/9 * x, 0])"
   ]
  },
  {
   "cell_type": "markdown",
   "metadata": {},
   "source": [
    "Добавим часть для графика для $x>3$ (не стали рисовать сразу, чтобы избежать соединяющей вертикальной линии, которая явно лишняя):"
   ]
  },
  {
   "cell_type": "code",
   "execution_count": 79,
   "metadata": {},
   "outputs": [],
   "source": [
    "xs2 = np.linspace(3, 10, 100)\n",
    "fx2 = np.piecewise(xs2, [x2>3], [0, 0])"
   ]
  },
  {
   "cell_type": "code",
   "execution_count": 90,
   "metadata": {},
   "outputs": [
    {
     "data": {
      "text/plain": [
       "[<matplotlib.lines.Line2D at 0x11cc42b00>]"
      ]
     },
     "execution_count": 90,
     "metadata": {},
     "output_type": "execute_result"
    },
    {
     "data": {
      "image/png": "[encoded data removed]",
      "text/plain": [
       "<Figure size 432x288 with 1 Axes>"
      ]
     },
     "metadata": {},
     "output_type": "display_data"
    }
   ],
   "source": [
    "plt.plot(xs1, fx, 'b')\n",
    "plt.plot(xs2, fx2, 'b')"
   ]
  },
  {
   "cell_type": "markdown",
   "metadata": {},
   "source": [
    "Теперь закрасим площадь под графиком, которая соответствует вероятности $P(0<X<2)$."
   ]
  },
  {
   "cell_type": "code",
   "execution_count": 96,
   "metadata": {},
   "outputs": [
    {
     "data": {
      "text/plain": [
       "<matplotlib.collections.PolyCollection at 0x120babfd0>"
      ]
     },
     "execution_count": 96,
     "metadata": {},
     "output_type": "execute_result"
    },
    {
     "data": {
      "image/png": "[encoded data removed]",
      "text/plain": [
       "<Figure size 432x288 with 1 Axes>"
      ]
     },
     "metadata": {},
     "output_type": "display_data"
    }
   ],
   "source": [
    "interval = np.arange(0, 2, 0.1)  # интервал от 0 до 2, шаг 0.1\n",
    "plt.plot(xs1, fx, 'b')\n",
    "plt.plot(xs2, fx2, 'b')\n",
    "plt.fill_between(interval, pdf(interval), facecolor = 'red')"
   ]
  },
  {
   "cell_type": "markdown",
   "metadata": {},
   "source": [
    "Получилось!"
   ]
  },
  {
   "cell_type": "markdown",
   "metadata": {},
   "source": [
    "Для полноты изложения запишем формулы для математического ожидания и дисперсии для непрерывных случайных величин:"
   ]
  },
  {
   "cell_type": "markdown",
   "metadata": {},
   "source": [
    "$$\n",
    "E(X) = \\int\\limits_{-\\infty}^{+\\infty} x \\cdot f(x) dx\n",
    "$$\n",
    "\n",
    "$$\n",
    "D(X) = \\int\\limits_{-\\infty}^{+\\infty} x^2 \\cdot f(x) dx - \\big(\\int\\limits_{-\\infty}^{+\\infty} x \\cdot f(x) dx\\big)^2\n",
    "$$"
   ]
  },
  {
   "cell_type": "markdown",
   "metadata": {},
   "source": [
    "Перейдём к практике – генерации случайных величин из известных распределений и расчёту их характеристик. Импортируем модуль `stats`:"
   ]
  },
  {
   "cell_type": "code",
   "execution_count": 97,
   "metadata": {},
   "outputs": [],
   "source": [
    "import scipy.stats as st"
   ]
  },
  {
   "cell_type": "markdown",
   "metadata": {},
   "source": [
    "### Равномерное распределение\n",
    "\n",
    "**Общие факты**\n",
    "\n",
    "Плотность вероятности равномерной случайной величины:\n",
    "\n",
    "$$f(x) = \n",
    "\\begin{cases} \n",
    "\\frac{1}{b-a} & x \\in (a,b)\\\\\n",
    "0 & x \\notin [a,b]\\\\\n",
    "\\end{cases}$$\n",
    "\n",
    "Несложно вывести первые два момента этого распределения:\n",
    "\n",
    "$$\n",
    "E(X) = \\frac{a+b}{2}\n",
    "$$\n",
    "\n",
    "$$\n",
    "D(X) = \\frac{(b-a)^2}{12}\n",
    "$$.\n",
    "\n",
    "Сгенерируем равномерную случайную величину с $a=2$ и $b=8$:"
   ]
  },
  {
   "cell_type": "code",
   "execution_count": 100,
   "metadata": {},
   "outputs": [],
   "source": [
    "u = st.uniform(2, 8)"
   ]
  },
  {
   "cell_type": "markdown",
   "metadata": {},
   "source": [
    "Найдём математическое ожидание и дисперсию:"
   ]
  },
  {
   "cell_type": "code",
   "execution_count": 105,
   "metadata": {},
   "outputs": [
    {
     "data": {
      "text/plain": [
       "(array(6.), array(5.33333333), array(0.), array(-1.2))"
      ]
     },
     "execution_count": 105,
     "metadata": {},
     "output_type": "execute_result"
    }
   ],
   "source": [
    "u.stats()  # по умолчанию математическое ожидание и дисперсия"
   ]
  },
  {
   "cell_type": "markdown",
   "metadata": {},
   "source": [
    "Посчитаем значение функции распределения в точке $2.5$, то есть $f(2.5)$:"
   ]
  },
  {
   "cell_type": "code",
   "execution_count": 109,
   "metadata": {},
   "outputs": [
    {
     "data": {
      "text/plain": [
       "0.125"
      ]
     },
     "execution_count": 109,
     "metadata": {},
     "output_type": "execute_result"
    }
   ],
   "source": [
    "u.pdf(2.5)  # pdf - probability density function"
   ]
  },
  {
   "cell_type": "markdown",
   "metadata": {},
   "source": [
    "Посчитаем значение функции распределения в точке $2.5$, то есть $F(2.5) = P(X < 2.5) = \\int\\limits_{-\\infty}^{2.5} f(x) dx$: "
   ]
  },
  {
   "cell_type": "code",
   "execution_count": 110,
   "metadata": {},
   "outputs": [
    {
     "data": {
      "text/plain": [
       "0.0625"
      ]
     },
     "execution_count": 110,
     "metadata": {},
     "output_type": "execute_result"
    }
   ],
   "source": [
    "u.cdf(2.5)"
   ]
  },
  {
   "cell_type": "markdown",
   "metadata": {},
   "source": [
    "А теперь $P(0<X<2.45)$:"
   ]
  },
  {
   "cell_type": "code",
   "execution_count": 112,
   "metadata": {},
   "outputs": [
    {
     "data": {
      "text/plain": [
       "0.05625000000000002"
      ]
     },
     "execution_count": 112,
     "metadata": {},
     "output_type": "execute_result"
    }
   ],
   "source": [
    "u.cdf(2.45) - u.cdf(0)"
   ]
  },
  {
   "cell_type": "markdown",
   "metadata": {},
   "source": [
    "Конечно, это не исчерпывающий список операций, некоторые из них мы рассмотрим далее, на примере нормальной случайной величины."
   ]
  },
  {
   "cell_type": "markdown",
   "metadata": {},
   "source": [
    "### Нормальное распределение\n",
    "\n",
    "**Общие факты**\n",
    "\n",
    "Плотность вероятности нормальной случайной величины с $E(X) = a$ и $D(X) = \\sigma^2$:\n",
    "$$\n",
    "f(x) = \\frac{1}{\\sqrt{2\\pi}\\sigma} \\cdot e^{-\\frac{(x-a)^2}{2\\sigma^2}}.\n",
    "$$"
   ]
  },
  {
   "cell_type": "markdown",
   "metadata": {},
   "source": [
    "По умолчанию, если при генерировании случайной величины мы не указываем математического ожидания и дисперсии, возвращается стандартная нормальная величина с $E(X)=0$ и $D(X)=1$."
   ]
  },
  {
   "cell_type": "code",
   "execution_count": 124,
   "metadata": {},
   "outputs": [
    {
     "data": {
      "text/plain": [
       "(array(0.), array(1.))"
      ]
     },
     "execution_count": 124,
     "metadata": {},
     "output_type": "execute_result"
    }
   ],
   "source": [
    "normal = st.norm()\n",
    "normal.stats()"
   ]
  },
  {
   "cell_type": "markdown",
   "metadata": {},
   "source": [
    "Сгенерируем величину $X \\sim N(a = 4, \\sigma^2 = 9)$:"
   ]
  },
  {
   "cell_type": "code",
   "execution_count": 125,
   "metadata": {},
   "outputs": [
    {
     "data": {
      "text/plain": [
       "(array(4.), array(9.))"
      ]
     },
     "execution_count": 125,
     "metadata": {},
     "output_type": "execute_result"
    }
   ],
   "source": [
    "x = st.norm(4, 3)  # указываем математическое ожидание и станд отклонение, не D(X)\n",
    "x.stats()"
   ]
  },
  {
   "cell_type": "markdown",
   "metadata": {},
   "source": [
    "Построим график плотности:"
   ]
  },
  {
   "cell_type": "code",
   "execution_count": 132,
   "metadata": {},
   "outputs": [
    {
     "data": {
      "text/plain": [
       "[<matplotlib.lines.Line2D at 0x1a22ad70b8>]"
      ]
     },
     "execution_count": 132,
     "metadata": {},
     "output_type": "execute_result"
    },
    {
     "data": {
      "image/png": "[encoded data removed]",
      "text/plain": [
       "<Figure size 432x288 with 1 Axes>"
      ]
     },
     "metadata": {},
     "output_type": "display_data"
    }
   ],
   "source": [
    "x = np.linspace(-5, 13, 200)  # границы (a-3*sigma; a+3*sigma)\n",
    "fx = st.norm.pdf(x, 4, 3) # значений функции плотности\n",
    "plt.plot(x, fx, 'g')"
   ]
  },
  {
   "cell_type": "markdown",
   "metadata": {},
   "source": [
    "Наложим график плотности нормальной величины с таким же математическим ожиданием, но с меньшей дисперсией (стандартным отклонением):"
   ]
  },
  {
   "cell_type": "code",
   "execution_count": 144,
   "metadata": {},
   "outputs": [
    {
     "data": {
      "text/plain": [
       "[<matplotlib.lines.Line2D at 0x1a22a93d30>]"
      ]
     },
     "execution_count": 144,
     "metadata": {},
     "output_type": "execute_result"
    },
    {
     "data": {
      "image/png": "[encoded data removed]",
      "text/plain": [
       "<Figure size 432x288 with 1 Axes>"
      ]
     },
     "metadata": {},
     "output_type": "display_data"
    }
   ],
   "source": [
    "x = np.linspace(-5, 13, 200)  # границы (a-3*sigma; a+3*sigma)\n",
    "fx1 = st.norm.pdf(x, 4, 3) # значений функции плотности 1\n",
    "fx2 = st.norm.pdf(x, 4, 1) # значений функции плотности 2\n",
    "plt.plot(x, fx1, 'g')\n",
    "plt.plot(x, fx2, 'r')"
   ]
  },
  {
   "cell_type": "markdown",
   "metadata": {},
   "source": [
    "Для величины $X \\sim N(a = 4, \\sigma^2 = 9)$ найдём квантиль уровня $0.3$, то есть значение $x_{0.3}$ случайной величины такое, что $P(X<x_{0.3}) = 0.3$:"
   ]
  },
  {
   "cell_type": "code",
   "execution_count": 137,
   "metadata": {},
   "outputs": [
    {
     "data": {
      "text/plain": [
       "-0.5244005127080409"
      ]
     },
     "execution_count": 137,
     "metadata": {},
     "output_type": "execute_result"
    }
   ],
   "source": [
    "normal.ppf(0.3)"
   ]
  },
  {
   "cell_type": "markdown",
   "metadata": {},
   "source": [
    "Посчитаем энтропию распределения:"
   ]
  },
  {
   "cell_type": "code",
   "execution_count": 142,
   "metadata": {},
   "outputs": [
    {
     "data": {
      "text/plain": [
       "array(1.41893853)"
      ]
     },
     "execution_count": 142,
     "metadata": {},
     "output_type": "execute_result"
    }
   ],
   "source": [
    "normal.entropy() "
   ]
  },
  {
   "cell_type": "markdown",
   "metadata": {},
   "source": [
    "Энтропия непрерывной случайной величины считается так:\n",
    "    \n",
    "$$\n",
    "H(X) = -E(\\ln f(x) = - \\int\\limits_{-\\infty}^{+\\infty} f(x) \\ln f(x) dx\n",
    "$$\n",
    "\n"
   ]
  },
  {
   "cell_type": "markdown",
   "metadata": {},
   "source": [
    "Примеры других распределений будет предложено рассмотреть в домашнем задании, плюс, некоторые распределения (распределение Стьюдента и распределение хи-квадрат) мы обсудим в части, посвящённой статистике."
   ]
  }
 ],
 "metadata": {
  "kernelspec": {
   "display_name": "Python 3",
   "language": "python",
   "name": "python3"
  },
  "language_info": {
   "codemirror_mode": {
    "name": "ipython",
    "version": 3
   },
   "file_extension": ".py",
   "mimetype": "text/x-python",
   "name": "python",
   "nbconvert_exporter": "python",
   "pygments_lexer": "ipython3",
   "version": "3.6.5"
  }
 },
 "nbformat": 4,
 "nbformat_minor": 2
}
