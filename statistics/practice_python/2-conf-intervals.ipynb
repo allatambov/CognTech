{
 "cells": [
  {
   "cell_type": "markdown",
   "metadata": {},
   "source": [
    "# Когнитивные технологии\n",
    "\n",
    "*Алла Тамбовцева*\n",
    "\n",
    "## Доверительные интервалы для доли и среднего"
   ]
  },
  {
   "cell_type": "markdown",
   "metadata": {},
   "source": [
    "### Доверительный интервал для доли\n",
    "\n",
    "Начнём с доверительного интервала для доли. Создадим массив из $0$ и $1$, чтобы в дальнейшем построить 95%-ный доверительный интервал. Представим, что мы опросили группу жителей Москвы и зафиксировали, кто из них считает себя «совой» по режиму дня. "
   ]
  },
  {
   "cell_type": "code",
   "execution_count": 1,
   "metadata": {},
   "outputs": [],
   "source": [
    "import numpy as np"
   ]
  },
  {
   "cell_type": "code",
   "execution_count": 2,
   "metadata": {},
   "outputs": [],
   "source": [
    "owls = np.array([1, 0, 0, 1, 1, 1, 0, 1, 0, 1, 0, 1, 0, 1, 1])  # 1 - сова, 0 - жаворонок (или не знает, кто)"
   ]
  },
  {
   "cell_type": "markdown",
   "metadata": {},
   "source": [
    "Теперь построим доверительный интервал. Проще всего это сделать вручную, вспомнив формулу расчёта доверительного интервала для доли: \n",
    "\n",
    "$$\n",
    "\\hat{p} \\pm z^* \\cdot \\sqrt{\\frac{p (1-p)}{n}}.\n",
    "$$\n",
    "\n",
    "Посчитаем $\\hat{p}$ – долю «сов» в нашей выборке:"
   ]
  },
  {
   "cell_type": "code",
   "execution_count": 16,
   "metadata": {},
   "outputs": [],
   "source": [
    "n = owls.size  # объём выборки\n",
    "p = owls.sum() / n  # доля сов"
   ]
  },
  {
   "cell_type": "markdown",
   "metadata": {},
   "source": [
    "Теперь рассчитаем предельную ошибку и назовём её `se`:"
   ]
  },
  {
   "cell_type": "code",
   "execution_count": 5,
   "metadata": {},
   "outputs": [],
   "source": [
    "se = np.sqrt(p * (1 - p) / n)\n",
    "se"
   ]
  },
  {
   "cell_type": "markdown",
   "metadata": {},
   "source": [
    "Осталось определить границы 95%-ного доверительного интервала. Это можно сделать по формуле, предварительно вычислив $z*$ с помощью функции для нахождения квантилей, но мы поступим проще: импортируем модуль `stats` из библиотеки `scipy` и определим границы интервала, который накрывает 95% значений случайной величины, имеющей нормальное распределение с математическим ожиданием равным `p` и стандартным отклонением равным `se`."
   ]
  },
  {
   "cell_type": "code",
   "execution_count": 7,
   "metadata": {},
   "outputs": [],
   "source": [
    "import scipy.stats as st"
   ]
  },
  {
   "cell_type": "code",
   "execution_count": 9,
   "metadata": {},
   "outputs": [
    {
     "data": {
      "text/plain": [
       "(0.3520819870781754, 0.8479180129218246)"
      ]
     },
     "execution_count": 9,
     "metadata": {},
     "output_type": "execute_result"
    }
   ],
   "source": [
    "# 95% CI\n",
    "st.norm.interval(0.95, loc=p, scale=se)"
   ]
  },
  {
   "cell_type": "markdown",
   "metadata": {},
   "source": [
    "Получается, если мы будем проводить аналогичные исследования на выборках такого же объёма много раз, в 95% случаев истинная доля «сов» среди жителей Москвы будет лежать в интервале от $0.35$ до $0.85$. Можем проверить результаты выше, подставив нужно значение $z^*$ в формулу:"
   ]
  },
  {
   "cell_type": "code",
   "execution_count": 10,
   "metadata": {},
   "outputs": [
    {
     "data": {
      "text/plain": [
       "(0.35207743144279907, 0.8479225685572009)"
      ]
     },
     "execution_count": 10,
     "metadata": {},
     "output_type": "execute_result"
    }
   ],
   "source": [
    "(p - 1.96 * se, p + 1.96 * se)  # 1.96 - квантиль уровня 0.975"
   ]
  },
  {
   "cell_type": "markdown",
   "metadata": {},
   "source": [
    "Результаты примерно одинаковы, небольшие различия в значениях обусловлены погрешностью из-за округления значения $z^*$ до второго знака после запятой."
   ]
  },
  {
   "cell_type": "markdown",
   "metadata": {},
   "source": [
    "### Доверительный интервал для среднего"
   ]
  },
  {
   "cell_type": "markdown",
   "metadata": {},
   "source": [
    "Доверительный интервал для среднего выборки, взятой из нормального распределения, предлагаю построить с помощью библиотеки `statsmodels`. Эта библиотека не является базовой, но если у вас установлена Anaconda, то и `statsmodels` тоже установлена. Эта библиотека очень полезна для статистических вычислений, тестов, моделей, поскольку не просто выдаёт лаконичные результаты, но и формирует расширенную выдачу по итогам тестов. Импортируем из этой библиотеки модуль `stats`: "
   ]
  },
  {
   "cell_type": "code",
   "execution_count": 12,
   "metadata": {},
   "outputs": [],
   "source": [
    "import statsmodels.stats.api as stm"
   ]
  },
  {
   "cell_type": "markdown",
   "metadata": {},
   "source": [
    "Создадим массив `ages` – небольшую выборку со значениями возраста респондентов."
   ]
  },
  {
   "cell_type": "code",
   "execution_count": 11,
   "metadata": {},
   "outputs": [],
   "source": [
    "ages = np.array([25, 24, 26, 27, 29, 22, 21, 32, 33, 21, 30, 29, 27])"
   ]
  },
  {
   "cell_type": "markdown",
   "metadata": {},
   "source": [
    "Теперь построим 95%-ный доверительный интервал для среднего значения возраста:"
   ]
  },
  {
   "cell_type": "code",
   "execution_count": 17,
   "metadata": {},
   "outputs": [
    {
     "data": {
      "text/plain": [
       "(24.229399479092713, 29.00136975167652)"
      ]
     },
     "execution_count": 17,
     "metadata": {},
     "output_type": "execute_result"
    }
   ],
   "source": [
    "stm.DescrStatsW(ages).tconfint_mean()  # уровень доверия 95% выставлен по умолчанию"
   ]
  },
  {
   "cell_type": "markdown",
   "metadata": {},
   "source": [
    "Если мы будем проводить аналогичные исследования на основе выборок такого же объёма, в 95% случаев истинное среднее значение возраста будет лежать в интервале от 24 до 29 лет (при этом истинное среднее одно, оно может либо попадать в этот интервал, либо не попадать).\n",
    "\n",
    "Уровень доверия можем изменять:"
   ]
  },
  {
   "cell_type": "code",
   "execution_count": 18,
   "metadata": {},
   "outputs": [
    {
     "data": {
      "text/plain": [
       "(26.474833330441232, 26.755935900328)"
      ]
     },
     "execution_count": 18,
     "metadata": {},
     "output_type": "execute_result"
    }
   ],
   "source": [
    "stm.DescrStatsW(ages).tconfint_mean(0.9)  # 90%-ный доверительный интервал"
   ]
  }
 ],
 "metadata": {
  "kernelspec": {
   "display_name": "Python 3",
   "language": "python",
   "name": "python3"
  },
  "language_info": {
   "codemirror_mode": {
    "name": "ipython",
    "version": 3
   },
   "file_extension": ".py",
   "mimetype": "text/x-python",
   "name": "python",
   "nbconvert_exporter": "python",
   "pygments_lexer": "ipython3",
   "version": "3.6.5"
  }
 },
 "nbformat": 4,
 "nbformat_minor": 2
}
